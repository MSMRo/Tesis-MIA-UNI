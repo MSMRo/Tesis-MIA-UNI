{
 "cells": [
  {
   "cell_type": "markdown",
   "metadata": {
    "id": "PWdS5fYXo2s9"
   },
   "source": [
    "# Generative Adversarial Network for ECG synthesis\n"
   ]
  },
  {
   "cell_type": "markdown",
   "metadata": {
    "id": "w1B4aDB5o2tK"
   },
   "source": [
    "![](https://64.media.tumblr.com/66dc00e688f72af4d7b5d768005359c4/094fefb7e60b17ee-9c/s500x750/3060385c5fdcb38f3a716d8a309a40e69e598a5f.png)"
   ]
  },
  {
   "cell_type": "code",
   "execution_count": 2,
   "metadata": {},
   "outputs": [
    {
     "name": "stdout",
     "output_type": "stream",
     "text": [
      "Looking in indexes: https://download.pytorch.org/whl/cpu\n",
      "Collecting torch\n",
      "  Downloading https://download.pytorch.org/whl/cpu/torch-2.9.0%2Bcpu-cp312-cp312-manylinux_2_28_x86_64.whl.metadata (29 kB)\n",
      "Collecting torchvision\n",
      "  Downloading https://download.pytorch.org/whl/cpu/torchvision-0.24.0%2Bcpu-cp312-cp312-manylinux_2_28_x86_64.whl.metadata (5.9 kB)\n",
      "Collecting filelock (from torch)\n",
      "  Downloading https://download.pytorch.org/whl/filelock-3.19.1-py3-none-any.whl.metadata (2.1 kB)\n",
      "Requirement already satisfied: typing-extensions>=4.10.0 in /home/moises/miniconda3/envs/torch-env/lib/python3.12/site-packages (from torch) (4.15.0)\n",
      "Requirement already satisfied: setuptools in /home/moises/miniconda3/envs/torch-env/lib/python3.12/site-packages (from torch) (80.9.0)\n",
      "Collecting sympy>=1.13.3 (from torch)\n",
      "  Downloading https://download.pytorch.org/whl/sympy-1.14.0-py3-none-any.whl.metadata (12 kB)\n",
      "Collecting networkx>=2.5.1 (from torch)\n",
      "  Downloading https://download.pytorch.org/whl/networkx-3.5-py3-none-any.whl.metadata (6.3 kB)\n",
      "Collecting jinja2 (from torch)\n",
      "  Downloading https://download.pytorch.org/whl/jinja2-3.1.6-py3-none-any.whl.metadata (2.9 kB)\n",
      "Collecting fsspec>=0.8.5 (from torch)\n",
      "  Downloading https://download.pytorch.org/whl/fsspec-2025.9.0-py3-none-any.whl.metadata (10 kB)\n",
      "Requirement already satisfied: numpy in /home/moises/miniconda3/envs/torch-env/lib/python3.12/site-packages (from torchvision) (2.3.4)\n",
      "Requirement already satisfied: pillow!=8.3.*,>=5.3.0 in /home/moises/miniconda3/envs/torch-env/lib/python3.12/site-packages (from torchvision) (12.0.0)\n",
      "Collecting mpmath<1.4,>=1.1.0 (from sympy>=1.13.3->torch)\n",
      "  Downloading https://download.pytorch.org/whl/mpmath-1.3.0-py3-none-any.whl (536 kB)\n",
      "\u001b[2K     \u001b[90m━━━━━━━━━━━━━━━━━━━━━━━━━━━━━━━━━━━━━━━━\u001b[0m \u001b[32m536.2/536.2 kB\u001b[0m \u001b[31m8.2 MB/s\u001b[0m  \u001b[33m0:00:00\u001b[0m\n",
      "\u001b[?25hCollecting MarkupSafe>=2.0 (from jinja2->torch)\n",
      "  Downloading https://download.pytorch.org/whl/MarkupSafe-2.1.5-cp312-cp312-manylinux_2_17_x86_64.manylinux2014_x86_64.whl (28 kB)\n",
      "Downloading https://download.pytorch.org/whl/cpu/torch-2.9.0%2Bcpu-cp312-cp312-manylinux_2_28_x86_64.whl (184.4 MB)\n",
      "\u001b[2K   \u001b[90m━━━━━━━━━━━━━━━━━━━━━━━━━━━━━━━━━━━━━━━━\u001b[0m \u001b[32m184.4/184.4 MB\u001b[0m \u001b[31m38.7 MB/s\u001b[0m  \u001b[33m0:00:04\u001b[0mm0:00:01\u001b[0m00:01\u001b[0m\n",
      "\u001b[?25hDownloading https://download.pytorch.org/whl/cpu/torchvision-0.24.0%2Bcpu-cp312-cp312-manylinux_2_28_x86_64.whl (1.9 MB)\n",
      "\u001b[2K   \u001b[90m━━━━━━━━━━━━━━━━━━━━━━━━━━━━━━━━━━━━━━━━\u001b[0m \u001b[32m1.9/1.9 MB\u001b[0m \u001b[31m25.2 MB/s\u001b[0m  \u001b[33m0:00:00\u001b[0m\n",
      "\u001b[?25hDownloading https://download.pytorch.org/whl/fsspec-2025.9.0-py3-none-any.whl (199 kB)\n",
      "Downloading https://download.pytorch.org/whl/networkx-3.5-py3-none-any.whl (2.0 MB)\n",
      "\u001b[2K   \u001b[90m━━━━━━━━━━━━━━━━━━━━━━━━━━━━━━━━━━━━━━━━\u001b[0m \u001b[32m2.0/2.0 MB\u001b[0m \u001b[31m32.3 MB/s\u001b[0m  \u001b[33m0:00:00\u001b[0m\n",
      "\u001b[?25hDownloading https://download.pytorch.org/whl/sympy-1.14.0-py3-none-any.whl (6.3 MB)\n",
      "\u001b[2K   \u001b[90m━━━━━━━━━━━━━━━━━━━━━━━━━━━━━━━━━━━━━━━━\u001b[0m \u001b[32m6.3/6.3 MB\u001b[0m \u001b[31m36.8 MB/s\u001b[0m  \u001b[33m0:00:00\u001b[0m\n",
      "\u001b[?25hDownloading https://download.pytorch.org/whl/filelock-3.19.1-py3-none-any.whl (15 kB)\n",
      "Downloading https://download.pytorch.org/whl/jinja2-3.1.6-py3-none-any.whl (134 kB)\n",
      "Installing collected packages: mpmath, sympy, networkx, MarkupSafe, fsspec, filelock, jinja2, torch, torchvision\n",
      "\u001b[2K   \u001b[90m━━━━━━━━━━━━━━━━━━━━━━━━━━━━━━━━━━━━━━━━\u001b[0m \u001b[32m9/9\u001b[0m [torchvision]\u001b[0m [torchvision]\n",
      "\u001b[1A\u001b[2KSuccessfully installed MarkupSafe-2.1.5 filelock-3.19.1 fsspec-2025.9.0 jinja2-3.1.6 mpmath-1.3.0 networkx-3.5 sympy-1.14.0 torch-2.9.0+cpu torchvision-0.24.0+cpu\n"
     ]
    }
   ],
   "source": [
    "!pip install torch torchvision --index-url https://download.pytorch.org/whl/cpu\n"
   ]
  },
  {
   "cell_type": "code",
   "execution_count": 3,
   "metadata": {
    "_cell_guid": "b1076dfc-b9ad-4769-8c92-a6c4dae69d19",
    "_uuid": "8f2839f25d086af736a60e9eeb907d3b93b6e0e5",
    "id": "mU-LH25oo2tL",
    "trusted": true
   },
   "outputs": [],
   "source": [
    "import os\n",
    "import time\n",
    "\n",
    "import numpy as np # linear algebra\n",
    "import pandas as pd # data processing, CSV file I/O (e.g. pd.read_csv)\n",
    "import matplotlib.pyplot as plt\n",
    "import seaborn as sns\n",
    "# Input data files are available in the read-only \"../input/\" directory\n",
    "# For example, running this (by clicking run or pressing Shift+Enter) will list all files under the input directory\n",
    "import torch\n",
    "import torch.nn as nn\n",
    "import torch.nn.functional as F\n",
    "from torch.utils.data import Dataset, DataLoader\n",
    "from torch.optim import AdamW, Adam\n"
   ]
  },
  {
   "cell_type": "code",
   "execution_count": 4,
   "metadata": {
    "id": "FUN6yAu7o2tM",
    "trusted": true
   },
   "outputs": [],
   "source": [
    "class Config:\n",
    "    csv_path = ''\n",
    "    seed = 2021\n",
    "    device = 'cuda:0' if torch.cuda.is_available() else 'cpu'\n",
    "\n",
    "def seed_everything(seed: int):\n",
    "    np.random.seed(seed)\n",
    "    torch.manual_seed(seed)\n",
    "    if torch.cuda.is_available():\n",
    "        torch.cuda.manual_seed(seed)\n",
    "    \n",
    "config = Config()\n",
    "seed_everything(config.seed)"
   ]
  },
  {
   "cell_type": "code",
   "execution_count": 5,
   "metadata": {
    "id": "ORrVrvbJo2tM",
    "trusted": true
   },
   "outputs": [
    {
     "data": {
      "application/vnd.microsoft.datawrangler.viewer.v0+json": {
       "columns": [
        {
         "name": "index",
         "rawType": "int64",
         "type": "integer"
        },
        {
         "name": "9.322328567504882812e-01",
         "rawType": "float64",
         "type": "float"
        },
        {
         "name": "8.696785569190979004e-01",
         "rawType": "float64",
         "type": "float"
        },
        {
         "name": "8.861859440803527832e-01",
         "rawType": "float64",
         "type": "float"
        },
        {
         "name": "9.296264052391052246e-01",
         "rawType": "float64",
         "type": "float"
        },
        {
         "name": "9.087749719619750977e-01",
         "rawType": "float64",
         "type": "float"
        },
        {
         "name": "9.339704513549804688e-01",
         "rawType": "float64",
         "type": "float"
        },
        {
         "name": "8.010425567626953125e-01",
         "rawType": "float64",
         "type": "float"
        },
        {
         "name": "7.497828006744384766e-01",
         "rawType": "float64",
         "type": "float"
        },
        {
         "name": "6.872285008430480957e-01",
         "rawType": "float64",
         "type": "float"
        },
        {
         "name": "6.350998878479003906e-01",
         "rawType": "float64",
         "type": "float"
        },
        {
         "name": "6.498696804046630859e-01",
         "rawType": "float64",
         "type": "float"
        },
        {
         "name": "6.350998878479003906e-01.1",
         "rawType": "float64",
         "type": "float"
        },
        {
         "name": "6.550825238227844238e-01",
         "rawType": "float64",
         "type": "float"
        },
        {
         "name": "6.646394729614257812e-01",
         "rawType": "float64",
         "type": "float"
        },
        {
         "name": "6.333622932434082031e-01",
         "rawType": "float64",
         "type": "float"
        },
        {
         "name": "7.463075518608093262e-01",
         "rawType": "float64",
         "type": "float"
        },
        {
         "name": "8.714161515235900879e-01",
         "rawType": "float64",
         "type": "float"
        },
        {
         "name": "9.383144974708557129e-01",
         "rawType": "float64",
         "type": "float"
        },
        {
         "name": "1.000000000000000000e+00",
         "rawType": "float64",
         "type": "float"
        },
        {
         "name": "9.487402439117431641e-01",
         "rawType": "float64",
         "type": "float"
        },
        {
         "name": "3.961772322654724121e-01",
         "rawType": "float64",
         "type": "float"
        },
        {
         "name": "0.000000000000000000e+00",
         "rawType": "float64",
         "type": "float"
        },
        {
         "name": "3.909643739461898804e-02",
         "rawType": "float64",
         "type": "float"
        },
        {
         "name": "1.285838335752487183e-01",
         "rawType": "float64",
         "type": "float"
        },
        {
         "name": "3.058210313320159912e-01",
         "rawType": "float64",
         "type": "float"
        },
        {
         "name": "6.403127908706665039e-01",
         "rawType": "float64",
         "type": "float"
        },
        {
         "name": "6.177237033843994141e-01",
         "rawType": "float64",
         "type": "float"
        },
        {
         "name": "5.377932190895080566e-01",
         "rawType": "float64",
         "type": "float"
        },
        {
         "name": "3.527367413043975830e-01",
         "rawType": "float64",
         "type": "float"
        },
        {
         "name": "2.206776738166809082e-01",
         "rawType": "float64",
         "type": "float"
        },
        {
         "name": "2.562988698482513428e-01",
         "rawType": "float64",
         "type": "float"
        },
        {
         "name": "3.579496145248413086e-01",
         "rawType": "float64",
         "type": "float"
        },
        {
         "name": "4.821893870830535889e-01",
         "rawType": "float64",
         "type": "float"
        },
        {
         "name": "5.708079934120178223e-01",
         "rawType": "float64",
         "type": "float"
        },
        {
         "name": "5.777584910392761230e-01",
         "rawType": "float64",
         "type": "float"
        },
        {
         "name": "6.203301548957824707e-01",
         "rawType": "float64",
         "type": "float"
        },
        {
         "name": "6.220677495002746582e-01",
         "rawType": "float64",
         "type": "float"
        },
        {
         "name": "6.185925006866455078e-01",
         "rawType": "float64",
         "type": "float"
        },
        {
         "name": "6.264117956161499023e-01",
         "rawType": "float64",
         "type": "float"
        },
        {
         "name": "6.125108599662780762e-01",
         "rawType": "float64",
         "type": "float"
        },
        {
         "name": "6.220677495002746582e-01.1",
         "rawType": "float64",
         "type": "float"
        },
        {
         "name": "5.977410674095153809e-01",
         "rawType": "float64",
         "type": "float"
        },
        {
         "name": "6.185925006866455078e-01.1",
         "rawType": "float64",
         "type": "float"
        },
        {
         "name": "6.307558417320251465e-01",
         "rawType": "float64",
         "type": "float"
        },
        {
         "name": "6.229366064071655273e-01",
         "rawType": "float64",
         "type": "float"
        },
        {
         "name": "6.281494498252868652e-01",
         "rawType": "float64",
         "type": "float"
        },
        {
         "name": "6.064292192459106445e-01",
         "rawType": "float64",
         "type": "float"
        },
        {
         "name": "6.446568369865417480e-01",
         "rawType": "float64",
         "type": "float"
        },
        {
         "name": "6.715899109840393066e-01",
         "rawType": "float64",
         "type": "float"
        },
        {
         "name": "6.229366064071655273e-01.1",
         "rawType": "float64",
         "type": "float"
        },
        {
         "name": "6.733275651931762695e-01",
         "rawType": "float64",
         "type": "float"
        },
        {
         "name": "6.698523163795471191e-01",
         "rawType": "float64",
         "type": "float"
        },
        {
         "name": "6.872285008430480957e-01.1",
         "rawType": "float64",
         "type": "float"
        },
        {
         "name": "7.245873212814331055e-01",
         "rawType": "float64",
         "type": "float"
        },
        {
         "name": "7.185056209564208984e-01",
         "rawType": "float64",
         "type": "float"
        },
        {
         "name": "7.506515979766845703e-01",
         "rawType": "float64",
         "type": "float"
        },
        {
         "name": "7.280625700950622559e-01",
         "rawType": "float64",
         "type": "float"
        },
        {
         "name": "7.393570542335510254e-01",
         "rawType": "float64",
         "type": "float"
        },
        {
         "name": "7.480452060699462891e-01",
         "rawType": "float64",
         "type": "float"
        },
        {
         "name": "7.437011003494262695e-01",
         "rawType": "float64",
         "type": "float"
        },
        {
         "name": "7.888792157173156738e-01",
         "rawType": "float64",
         "type": "float"
        },
        {
         "name": "7.393570542335510254e-01.1",
         "rawType": "float64",
         "type": "float"
        },
        {
         "name": "0.000000000000000000e+00.1",
         "rawType": "float64",
         "type": "float"
        },
        {
         "name": "0.000000000000000000e+00.2",
         "rawType": "float64",
         "type": "float"
        },
        {
         "name": "0.000000000000000000e+00.3",
         "rawType": "float64",
         "type": "float"
        },
        {
         "name": "0.000000000000000000e+00.4",
         "rawType": "float64",
         "type": "float"
        },
        {
         "name": "0.000000000000000000e+00.5",
         "rawType": "float64",
         "type": "float"
        },
        {
         "name": "0.000000000000000000e+00.6",
         "rawType": "float64",
         "type": "float"
        },
        {
         "name": "0.000000000000000000e+00.7",
         "rawType": "float64",
         "type": "float"
        },
        {
         "name": "0.000000000000000000e+00.8",
         "rawType": "float64",
         "type": "float"
        },
        {
         "name": "0.000000000000000000e+00.9",
         "rawType": "float64",
         "type": "float"
        },
        {
         "name": "0.000000000000000000e+00.10",
         "rawType": "float64",
         "type": "float"
        },
        {
         "name": "0.000000000000000000e+00.11",
         "rawType": "float64",
         "type": "float"
        },
        {
         "name": "0.000000000000000000e+00.12",
         "rawType": "float64",
         "type": "float"
        },
        {
         "name": "0.000000000000000000e+00.13",
         "rawType": "float64",
         "type": "float"
        },
        {
         "name": "0.000000000000000000e+00.14",
         "rawType": "float64",
         "type": "float"
        },
        {
         "name": "0.000000000000000000e+00.15",
         "rawType": "float64",
         "type": "float"
        },
        {
         "name": "0.000000000000000000e+00.16",
         "rawType": "float64",
         "type": "float"
        },
        {
         "name": "0.000000000000000000e+00.17",
         "rawType": "float64",
         "type": "float"
        },
        {
         "name": "0.000000000000000000e+00.18",
         "rawType": "float64",
         "type": "float"
        },
        {
         "name": "0.000000000000000000e+00.19",
         "rawType": "float64",
         "type": "float"
        },
        {
         "name": "0.000000000000000000e+00.20",
         "rawType": "float64",
         "type": "float"
        },
        {
         "name": "0.000000000000000000e+00.21",
         "rawType": "float64",
         "type": "float"
        },
        {
         "name": "0.000000000000000000e+00.22",
         "rawType": "float64",
         "type": "float"
        },
        {
         "name": "0.000000000000000000e+00.23",
         "rawType": "float64",
         "type": "float"
        },
        {
         "name": "0.000000000000000000e+00.24",
         "rawType": "float64",
         "type": "float"
        },
        {
         "name": "0.000000000000000000e+00.25",
         "rawType": "float64",
         "type": "float"
        },
        {
         "name": "0.000000000000000000e+00.26",
         "rawType": "float64",
         "type": "float"
        },
        {
         "name": "0.000000000000000000e+00.27",
         "rawType": "float64",
         "type": "float"
        },
        {
         "name": "0.000000000000000000e+00.28",
         "rawType": "float64",
         "type": "float"
        },
        {
         "name": "0.000000000000000000e+00.29",
         "rawType": "float64",
         "type": "float"
        },
        {
         "name": "0.000000000000000000e+00.30",
         "rawType": "float64",
         "type": "float"
        },
        {
         "name": "0.000000000000000000e+00.31",
         "rawType": "float64",
         "type": "float"
        },
        {
         "name": "0.000000000000000000e+00.32",
         "rawType": "float64",
         "type": "float"
        },
        {
         "name": "0.000000000000000000e+00.33",
         "rawType": "float64",
         "type": "float"
        },
        {
         "name": "0.000000000000000000e+00.34",
         "rawType": "float64",
         "type": "float"
        },
        {
         "name": "0.000000000000000000e+00.35",
         "rawType": "float64",
         "type": "float"
        },
        {
         "name": "0.000000000000000000e+00.36",
         "rawType": "float64",
         "type": "float"
        },
        {
         "name": "0.000000000000000000e+00.37",
         "rawType": "float64",
         "type": "float"
        },
        {
         "name": "0.000000000000000000e+00.38",
         "rawType": "float64",
         "type": "float"
        },
        {
         "name": "0.000000000000000000e+00.39",
         "rawType": "float64",
         "type": "float"
        },
        {
         "name": "0.000000000000000000e+00.40",
         "rawType": "float64",
         "type": "float"
        },
        {
         "name": "0.000000000000000000e+00.41",
         "rawType": "float64",
         "type": "float"
        },
        {
         "name": "0.000000000000000000e+00.42",
         "rawType": "float64",
         "type": "float"
        },
        {
         "name": "0.000000000000000000e+00.43",
         "rawType": "float64",
         "type": "float"
        },
        {
         "name": "0.000000000000000000e+00.44",
         "rawType": "float64",
         "type": "float"
        },
        {
         "name": "0.000000000000000000e+00.45",
         "rawType": "float64",
         "type": "float"
        },
        {
         "name": "0.000000000000000000e+00.46",
         "rawType": "float64",
         "type": "float"
        },
        {
         "name": "0.000000000000000000e+00.47",
         "rawType": "float64",
         "type": "float"
        },
        {
         "name": "0.000000000000000000e+00.48",
         "rawType": "float64",
         "type": "float"
        },
        {
         "name": "0.000000000000000000e+00.49",
         "rawType": "float64",
         "type": "float"
        },
        {
         "name": "0.000000000000000000e+00.50",
         "rawType": "float64",
         "type": "float"
        },
        {
         "name": "0.000000000000000000e+00.51",
         "rawType": "float64",
         "type": "float"
        },
        {
         "name": "0.000000000000000000e+00.52",
         "rawType": "float64",
         "type": "float"
        },
        {
         "name": "0.000000000000000000e+00.53",
         "rawType": "float64",
         "type": "float"
        },
        {
         "name": "0.000000000000000000e+00.54",
         "rawType": "float64",
         "type": "float"
        },
        {
         "name": "0.000000000000000000e+00.55",
         "rawType": "float64",
         "type": "float"
        },
        {
         "name": "0.000000000000000000e+00.56",
         "rawType": "float64",
         "type": "float"
        },
        {
         "name": "0.000000000000000000e+00.57",
         "rawType": "float64",
         "type": "float"
        },
        {
         "name": "0.000000000000000000e+00.58",
         "rawType": "float64",
         "type": "float"
        },
        {
         "name": "0.000000000000000000e+00.59",
         "rawType": "float64",
         "type": "float"
        },
        {
         "name": "0.000000000000000000e+00.60",
         "rawType": "float64",
         "type": "float"
        },
        {
         "name": "0.000000000000000000e+00.61",
         "rawType": "float64",
         "type": "float"
        },
        {
         "name": "0.000000000000000000e+00.62",
         "rawType": "float64",
         "type": "float"
        },
        {
         "name": "0.000000000000000000e+00.63",
         "rawType": "float64",
         "type": "float"
        },
        {
         "name": "0.000000000000000000e+00.64",
         "rawType": "float64",
         "type": "float"
        },
        {
         "name": "0.000000000000000000e+00.65",
         "rawType": "float64",
         "type": "float"
        },
        {
         "name": "0.000000000000000000e+00.66",
         "rawType": "float64",
         "type": "float"
        },
        {
         "name": "0.000000000000000000e+00.67",
         "rawType": "float64",
         "type": "float"
        },
        {
         "name": "0.000000000000000000e+00.68",
         "rawType": "float64",
         "type": "float"
        },
        {
         "name": "0.000000000000000000e+00.69",
         "rawType": "float64",
         "type": "float"
        },
        {
         "name": "0.000000000000000000e+00.70",
         "rawType": "float64",
         "type": "float"
        },
        {
         "name": "0.000000000000000000e+00.71",
         "rawType": "float64",
         "type": "float"
        },
        {
         "name": "0.000000000000000000e+00.72",
         "rawType": "float64",
         "type": "float"
        },
        {
         "name": "0.000000000000000000e+00.73",
         "rawType": "float64",
         "type": "float"
        },
        {
         "name": "0.000000000000000000e+00.74",
         "rawType": "float64",
         "type": "float"
        },
        {
         "name": "0.000000000000000000e+00.75",
         "rawType": "float64",
         "type": "float"
        },
        {
         "name": "0.000000000000000000e+00.76",
         "rawType": "float64",
         "type": "float"
        },
        {
         "name": "0.000000000000000000e+00.77",
         "rawType": "float64",
         "type": "float"
        },
        {
         "name": "0.000000000000000000e+00.78",
         "rawType": "float64",
         "type": "float"
        },
        {
         "name": "0.000000000000000000e+00.79",
         "rawType": "float64",
         "type": "float"
        },
        {
         "name": "0.000000000000000000e+00.80",
         "rawType": "float64",
         "type": "float"
        },
        {
         "name": "0.000000000000000000e+00.81",
         "rawType": "float64",
         "type": "float"
        },
        {
         "name": "0.000000000000000000e+00.82",
         "rawType": "float64",
         "type": "float"
        },
        {
         "name": "0.000000000000000000e+00.83",
         "rawType": "float64",
         "type": "float"
        },
        {
         "name": "0.000000000000000000e+00.84",
         "rawType": "float64",
         "type": "float"
        },
        {
         "name": "0.000000000000000000e+00.85",
         "rawType": "float64",
         "type": "float"
        },
        {
         "name": "0.000000000000000000e+00.86",
         "rawType": "float64",
         "type": "float"
        },
        {
         "name": "0.000000000000000000e+00.87",
         "rawType": "float64",
         "type": "float"
        },
        {
         "name": "0.000000000000000000e+00.88",
         "rawType": "float64",
         "type": "float"
        },
        {
         "name": "0.000000000000000000e+00.89",
         "rawType": "float64",
         "type": "float"
        },
        {
         "name": "0.000000000000000000e+00.90",
         "rawType": "float64",
         "type": "float"
        },
        {
         "name": "0.000000000000000000e+00.91",
         "rawType": "float64",
         "type": "float"
        },
        {
         "name": "0.000000000000000000e+00.92",
         "rawType": "float64",
         "type": "float"
        },
        {
         "name": "0.000000000000000000e+00.93",
         "rawType": "float64",
         "type": "float"
        },
        {
         "name": "0.000000000000000000e+00.94",
         "rawType": "float64",
         "type": "float"
        },
        {
         "name": "0.000000000000000000e+00.95",
         "rawType": "float64",
         "type": "float"
        },
        {
         "name": "0.000000000000000000e+00.96",
         "rawType": "float64",
         "type": "float"
        },
        {
         "name": "0.000000000000000000e+00.97",
         "rawType": "float64",
         "type": "float"
        },
        {
         "name": "0.000000000000000000e+00.98",
         "rawType": "float64",
         "type": "float"
        },
        {
         "name": "0.000000000000000000e+00.99",
         "rawType": "float64",
         "type": "float"
        },
        {
         "name": "0.000000000000000000e+00.100",
         "rawType": "float64",
         "type": "float"
        },
        {
         "name": "0.000000000000000000e+00.101",
         "rawType": "float64",
         "type": "float"
        },
        {
         "name": "0.000000000000000000e+00.102",
         "rawType": "float64",
         "type": "float"
        },
        {
         "name": "0.000000000000000000e+00.103",
         "rawType": "float64",
         "type": "float"
        },
        {
         "name": "0.000000000000000000e+00.104",
         "rawType": "float64",
         "type": "float"
        },
        {
         "name": "0.000000000000000000e+00.105",
         "rawType": "float64",
         "type": "float"
        },
        {
         "name": "0.000000000000000000e+00.106",
         "rawType": "float64",
         "type": "float"
        },
        {
         "name": "0.000000000000000000e+00.107",
         "rawType": "float64",
         "type": "float"
        },
        {
         "name": "0.000000000000000000e+00.108",
         "rawType": "float64",
         "type": "float"
        },
        {
         "name": "0.000000000000000000e+00.109",
         "rawType": "float64",
         "type": "float"
        },
        {
         "name": "0.000000000000000000e+00.110",
         "rawType": "float64",
         "type": "float"
        },
        {
         "name": "0.000000000000000000e+00.111",
         "rawType": "float64",
         "type": "float"
        },
        {
         "name": "0.000000000000000000e+00.112",
         "rawType": "float64",
         "type": "float"
        },
        {
         "name": "0.000000000000000000e+00.113",
         "rawType": "float64",
         "type": "float"
        },
        {
         "name": "0.000000000000000000e+00.114",
         "rawType": "float64",
         "type": "float"
        },
        {
         "name": "0.000000000000000000e+00.115",
         "rawType": "float64",
         "type": "float"
        },
        {
         "name": "0.000000000000000000e+00.116",
         "rawType": "float64",
         "type": "float"
        },
        {
         "name": "0.000000000000000000e+00.117",
         "rawType": "float64",
         "type": "float"
        },
        {
         "name": "0.000000000000000000e+00.118",
         "rawType": "float64",
         "type": "float"
        },
        {
         "name": "0.000000000000000000e+00.119",
         "rawType": "float64",
         "type": "float"
        },
        {
         "name": "0.000000000000000000e+00.120",
         "rawType": "float64",
         "type": "float"
        },
        {
         "name": "0.000000000000000000e+00.121",
         "rawType": "float64",
         "type": "float"
        },
        {
         "name": "0.000000000000000000e+00.122",
         "rawType": "float64",
         "type": "float"
        },
        {
         "name": "0.000000000000000000e+00.123",
         "rawType": "float64",
         "type": "float"
        },
        {
         "name": "0.000000000000000000e+00.124",
         "rawType": "float64",
         "type": "float"
        },
        {
         "name": "0.000000000000000000e+00.125",
         "rawType": "float64",
         "type": "float"
        },
        {
         "name": "1.000000000000000000e+00.1",
         "rawType": "float64",
         "type": "float"
        }
       ],
       "ref": "2facbffe-5000-4d96-9425-47ae330aeded",
       "rows": [
        [
         "0",
         "1.0",
         "0.6069411039352417",
         "0.3841807842254639",
         "0.25423729419708246",
         "0.223567396402359",
         "0.2768361568450928",
         "0.2534301877021789",
         "0.18482647836208344",
         "0.15334947407245636",
         "0.12187247723340988",
         "0.12510088086128235",
         "0.12913639843463895",
         "0.13720741868019104",
         "0.13720741868019104",
         "0.13236480951309204",
         "0.12671509385108948",
         "0.15819208323955536",
         "0.1525423675775528",
         "0.13236480951309204",
         "0.16868442296981812",
         "0.15657788515090942",
         "0.1832122653722763",
         "0.1912832856178284",
         "0.20419692993164065",
         "0.23002421855926516",
         "0.24455206096172327",
         "0.2857142984867096",
         "0.3075060546398163",
         "0.3212268054485321",
         "0.32768362760543823",
         "0.3518967032432556",
         "0.3736884593963623",
         "0.39709442853927607",
         "0.3631961345672608",
         "0.3405972421169281",
         "0.3075060546398163",
         "0.25827279686927795",
         "0.19774010777473447",
         "0.1993543207645416",
         "0.17352703213691711",
         "0.1476997584104538",
         "0.1355932205915451",
         "0.13397902250289917",
         "0.10573042929172516",
         "0.12187247723340988",
         "0.1355932205915451",
         "0.10653752833604813",
         "0.14850686490535736",
         "0.1355932205915451",
         "0.13478611409664154",
         "0.15092816948890686",
         "0.1646489053964615",
         "0.09443099051713943",
         "0.10653752833604813",
         "0.12106537818908691",
         "0.14124293625354767",
         "0.12267958372831345",
         "0.1355932205915451",
         "0.13155770301818848",
         "0.15092816948890686",
         "0.11702986061573029",
         "0.1331719160079956",
         "0.10411622375249863",
         "0.13720741868019104",
         "0.11945117264986038",
         "0.11460855603218079",
         "0.09685230255126952",
         "0.09120257943868637",
         "0.12913639843463895",
         "0.1000807136297226",
         "0.08635997027158737",
         "0.11380144953727722",
         "0.041162226349115365",
         "0.09362389147281647",
         "0.08151735365390778",
         "0.0742534324526787",
         "0.08071024715900421",
         "0.07990314811468124",
         "0.0782889425754547",
         "0.05326876416802406",
         "0.07506053149700163",
         "0.07586763799190521",
         "0.08071024715900421",
         "0.10411622375249863",
         "0.08393865823745726",
         "0.0766747370362282",
         "0.11945117264986038",
         "0.11299435049295424",
         "0.07990314811468124",
         "0.11783696711063384",
         "0.09362389147281647",
         "0.11783696711063384",
         "0.08635997027158737",
         "0.1380145251750946",
         "0.09927360713481904",
         "0.08313155919313431",
         "0.06941081583499908",
         "0.0782889425754547",
         "0.05326876416802406",
         "0.09604519605636595",
         "0.1404358297586441",
         "0.11138014495372772",
         "0.162227600812912",
         "0.1234866827726364",
         "0.1380145251750946",
         "0.06456819921731949",
         "0.0879741758108139",
         "0.06133979186415672",
         "0.037933818995952606",
         "0.03954802080988884",
         "0.07183212041854857",
         "0.04600484296679497",
         "0.045197740197181695",
         "0.0",
         "0.016142049804329872",
         "0.06537530571222305",
         "0.15657788515090942",
         "0.22518159449100492",
         "0.46085551381111145",
         "0.9507667422294616",
         "0.6069411039352417",
         "0.33494752645492554",
         "0.22518159449100492",
         "0.21226796507835388",
         "0.2477804720401764",
         "0.2163034677505493",
         "0.11702986061573029",
         "0.08071024715900421",
         "0.10330911725759506",
         "0.06779661029577255",
         "0.1307506114244461",
         "0.08151735365390778",
         "0.07990314811468124",
         "0.06941081583499908",
         "0.11299435049295424",
         "0.11299435049295424",
         "0.13478611409664154",
         "0.13640032708644867",
         "0.15657788515090942",
         "0.13397902250289917",
         "0.13155770301818848",
         "0.16303470730781555",
         "0.19774010777473447",
         "0.22033898532390597",
         "0.2009685188531876",
         "0.25262308120727534",
         "0.0",
         "0.0",
         "0.0",
         "0.0",
         "0.0",
         "0.0",
         "0.0",
         "0.0",
         "0.0",
         "0.0",
         "0.0",
         "0.0",
         "0.0",
         "0.0",
         "0.0",
         "0.0",
         "0.0",
         "0.0",
         "0.0",
         "0.0",
         "0.0",
         "0.0",
         "0.0",
         "0.0",
         "0.0",
         "0.0",
         "0.0",
         "0.0",
         "0.0",
         "0.0",
         "0.0",
         "0.0",
         "0.0",
         "0.0",
         "0.0",
         "0.0",
         "0.0",
         "0.0",
         "0.0",
         "0.0",
         "0.0",
         "1.0"
        ],
        [
         "1",
         "1.0",
         "0.9516128897666931",
         "0.9239631295204161",
         "0.8533025979995726",
         "0.791858673095703",
         "0.734255015850067",
         "0.6720430254936217",
         "0.6850998401641846",
         "0.6705068945884705",
         "0.6674346923828125",
         "0.6812595725059509",
         "0.6167434453964232",
         "0.6244239807128905",
         "0.6198156476020813",
         "0.5960061550140381",
         "0.6274961829185486",
         "0.6313363909721376",
         "0.6190476417541504",
         "0.6129032373428345",
         "0.6136713027954102",
         "0.6075268983840942",
         "0.5867895483970642",
         "0.5683563947677612",
         "0.5437787771224976",
         "0.5268816947937012",
         "0.5529953837394713",
         "0.5775729417800903",
         "0.5921658873558044",
         "0.5760368704795836",
         "0.5791090726852417",
         "0.5737327337265015",
         "0.5898617506027222",
         "0.542242705821991",
         "0.5192012190818787",
         "0.5145929455757141",
         "0.5284178256988524",
         "0.4938555955886841",
         "0.48540705442428583",
         "0.46159753203392023",
         "0.47849461436271673",
         "0.4815668165683746",
         "0.44393241405487055",
         "0.48387095332145685",
         "0.48924732208251953",
         "0.5069124698638916",
         "0.5299538969993591",
         "0.5399385690689087",
         "0.5698924660682678",
         "0.5399385690689087",
         "0.5522273182868958",
         "0.5929339528083801",
         "0.5668202638626099",
         "0.5537634491920471",
         "0.5522273182868958",
         "0.5660521984100342",
         "0.5752688050270081",
         "0.5983102917671204",
         "0.5637480616569519",
         "0.5952380895614624",
         "0.562980055809021",
         "0.5560675859451294",
         "0.5038402676582336",
         "0.5161290168762207",
         "0.498463898897171",
         "0.5276497602462769",
         "0.5230414867401123",
         "0.5145929455757141",
         "0.5314900279045105",
         "0.536098301410675",
         "0.5337941646575928",
         "0.557603657245636",
         "0.5384024381637573",
         "0.5399385690689087",
         "0.5652841925621033",
         "0.6344085931777954",
         "0.578341007232666",
         "0.4493087530136108",
         "0.5768049359321593",
         "0.8540706634521484",
         "0.4700460731983185",
         "0.0",
         "0.13133640587329865",
         "0.4009216725826264",
         "0.5821812748908997",
         "0.5821812748908997",
         "0.5798771381378174",
         "0.5499231815338135",
         "0.5898617506027222",
         "0.5921658873558044",
         "0.5844854116439819",
         "0.5898617506027222",
         "0.0",
         "0.0",
         "0.0",
         "0.0",
         "0.0",
         "0.0",
         "0.0",
         "0.0",
         "0.0",
         "0.0",
         "0.0",
         "0.0",
         "0.0",
         "0.0",
         "0.0",
         "0.0",
         "0.0",
         "0.0",
         "0.0",
         "0.0",
         "0.0",
         "0.0",
         "0.0",
         "0.0",
         "0.0",
         "0.0",
         "0.0",
         "0.0",
         "0.0",
         "0.0",
         "0.0",
         "0.0",
         "0.0",
         "0.0",
         "0.0",
         "0.0",
         "0.0",
         "0.0",
         "0.0",
         "0.0",
         "0.0",
         "0.0",
         "0.0",
         "0.0",
         "0.0",
         "0.0",
         "0.0",
         "0.0",
         "0.0",
         "0.0",
         "0.0",
         "0.0",
         "0.0",
         "0.0",
         "0.0",
         "0.0",
         "0.0",
         "0.0",
         "0.0",
         "0.0",
         "0.0",
         "0.0",
         "0.0",
         "0.0",
         "0.0",
         "0.0",
         "0.0",
         "0.0",
         "0.0",
         "0.0",
         "0.0",
         "0.0",
         "0.0",
         "0.0",
         "0.0",
         "0.0",
         "0.0",
         "0.0",
         "0.0",
         "0.0",
         "0.0",
         "0.0",
         "0.0",
         "0.0",
         "0.0",
         "0.0",
         "0.0",
         "0.0",
         "0.0",
         "0.0",
         "0.0",
         "0.0",
         "0.0",
         "0.0",
         "0.0",
         "0.0",
         "1.0"
        ],
        [
         "2",
         "0.9778188467025757",
         "0.8992606401443481",
         "0.23012939095497129",
         "0.032347504049539566",
         "0.14232902228832245",
         "0.2236598879098892",
         "0.3280961215496063",
         "0.3678373396396637",
         "0.3817005455493927",
         "0.3890942633152008",
         "0.35767099261283875",
         "0.37985211610794073",
         "0.37523105740547186",
         "0.39741221070289606",
         "0.388170063495636",
         "0.37800368666648865",
         "0.3983364105224609",
         "0.4195933341979981",
         "0.42791128158569336",
         "0.40203326940536493",
         "0.3789279162883759",
         "0.40018483996391296",
         "0.40665435791015625",
         "0.4223659932613373",
         "0.40203326940536493",
         "0.3835489749908447",
         "0.3983364105224609",
         "0.39371535181999207",
         "0.417744904756546",
         "0.388170063495636",
         "0.3604436218738556",
         "0.40295749902725214",
         "0.39279112219810486",
         "0.4131238460540771",
         "0.37707948684692383",
         "0.3271718919277191",
         "0.3465804159641266",
         "0.3382624685764313",
         "0.35674676299095154",
         "0.31423291563987726",
         "0.2781885266304016",
         "0.3114602565765381",
         "0.32162660360336304",
         "0.3317929804325104",
         "0.31608134508132935",
         "0.29574862122535706",
         "0.3123844861984253",
         "0.3271718919277191",
         "0.32994455099105835",
         "0.3114602565765381",
         "0.2791127562522888",
         "0.31330868601799006",
         "0.3068391978740692",
         "0.31423291563987726",
         "0.28650647401809687",
         "0.2486136853694916",
         "0.2772643268108368",
         "0.2975970506668091",
         "0.31053605675697327",
         "0.2624768912792206",
         "0.24584104120731357",
         "0.28188538551330566",
         "0.2975970506668091",
         "0.3068391978740692",
         "0.2754158973693848",
         "0.23290203511714933",
         "0.2587800323963165",
         "0.2754158973693848",
         "0.29574862122535706",
         "0.2837338149547577",
         "0.2569316029548645",
         "0.30961182713508606",
         "0.3207024037837982",
         "0.32902032136917114",
         "0.32162660360336304",
         "0.2846580445766449",
         "0.3548983335494995",
         "0.3946395516395569",
         "0.4195933341979981",
         "0.43345656991004944",
         "0.46025878190994257",
         "0.4750462174415588",
         "0.4704251289367676",
         "0.4667282700538635",
         "0.3733826279640198",
         "0.3604436218738556",
         "0.34473198652267456",
         "0.30221810936927795",
         "0.31053605675697327",
         "0.28280961513519287",
         "0.2560074031352997",
         "0.2652495503425598",
         "0.2791127562522888",
         "0.29390019178390503",
         "0.2698706090450287",
         "0.23844732344150543",
         "0.2763400971889496",
         "0.42698705196380615",
         "0.4630314111709594",
         "0.6432532072067261",
         "1.0",
         "0.40295749902725214",
         "0.0",
         "0.0",
         "0.0",
         "0.0",
         "0.0",
         "0.0",
         "0.0",
         "0.0",
         "0.0",
         "0.0",
         "0.0",
         "0.0",
         "0.0",
         "0.0",
         "0.0",
         "0.0",
         "0.0",
         "0.0",
         "0.0",
         "0.0",
         "0.0",
         "0.0",
         "0.0",
         "0.0",
         "0.0",
         "0.0",
         "0.0",
         "0.0",
         "0.0",
         "0.0",
         "0.0",
         "0.0",
         "0.0",
         "0.0",
         "0.0",
         "0.0",
         "0.0",
         "0.0",
         "0.0",
         "0.0",
         "0.0",
         "0.0",
         "0.0",
         "0.0",
         "0.0",
         "0.0",
         "0.0",
         "0.0",
         "0.0",
         "0.0",
         "0.0",
         "0.0",
         "0.0",
         "0.0",
         "0.0",
         "0.0",
         "0.0",
         "0.0",
         "0.0",
         "0.0",
         "0.0",
         "0.0",
         "0.0",
         "0.0",
         "0.0",
         "0.0",
         "0.0",
         "0.0",
         "0.0",
         "0.0",
         "0.0",
         "0.0",
         "0.0",
         "0.0",
         "0.0",
         "0.0",
         "0.0",
         "0.0",
         "0.0",
         "0.0",
         "0.0",
         "0.0",
         "0.0",
         "0.0",
         "0.0",
         "1.0"
        ],
        [
         "3",
         "0.9356178641319275",
         "0.8016614913940429",
         "0.8058151602745056",
         "1.0",
         "0.722741425037384",
         "0.4807892143726349",
         "0.45482864975929266",
         "0.3198338449001312",
         "0.2668743431568146",
         "0.30841121077537537",
         "0.28556594252586365",
         "0.34371754527091974",
         "0.2814122438430786",
         "0.2814122438430786",
         "0.2834891080856323",
         "0.2814122438430786",
         "0.3198338449001312",
         "0.31152647733688354",
         "0.2834891080856323",
         "0.27829697728157043",
         "0.27414330840110773",
         "0.3177570104598999",
         "0.26791277527809143",
         "0.27518171072006226",
         "0.28037384152412415",
         "0.2554517090320587",
         "0.31360331177711487",
         "0.2668743431568146",
         "0.24402907490730283",
         "0.19833852350711825",
         "0.19210799038410184",
         "0.19003115594387052",
         "0.13499480485916135",
         "0.08618899434804915",
         "0.07892004400491713",
         "0.036344755440950394",
         "0.024922117590904236",
         "0.0",
         "0.04465213045477867",
         "0.024922117590904236",
         "0.06645898520946503",
         "0.09138110280036926",
         "0.07372793555259705",
         "0.12045690417289732",
         "0.14018692076206207",
         "0.13707165420055387",
         "0.17653167247772217",
         "0.14537902176380155",
         "0.1412253379821777",
         "0.13603322207927704",
         "0.10799584537744522",
         "0.13291797041893005",
         "0.13499480485916135",
         "0.12772585451602936",
         "0.1318795382976532",
         "0.11941848695278168",
         "0.12772585451602936",
         "0.08722741156816481",
         "0.12980270385742188",
         "0.0",
         "0.0",
         "0.0",
         "0.0",
         "0.0",
         "0.0",
         "0.0",
         "0.0",
         "0.0",
         "0.0",
         "0.0",
         "0.0",
         "0.0",
         "0.0",
         "0.0",
         "0.0",
         "0.0",
         "0.0",
         "0.0",
         "0.0",
         "0.0",
         "0.0",
         "0.0",
         "0.0",
         "0.0",
         "0.0",
         "0.0",
         "0.0",
         "0.0",
         "0.0",
         "0.0",
         "0.0",
         "0.0",
         "0.0",
         "0.0",
         "0.0",
         "0.0",
         "0.0",
         "0.0",
         "0.0",
         "0.0",
         "0.0",
         "0.0",
         "0.0",
         "0.0",
         "0.0",
         "0.0",
         "0.0",
         "0.0",
         "0.0",
         "0.0",
         "0.0",
         "0.0",
         "0.0",
         "0.0",
         "0.0",
         "0.0",
         "0.0",
         "0.0",
         "0.0",
         "0.0",
         "0.0",
         "0.0",
         "0.0",
         "0.0",
         "0.0",
         "0.0",
         "0.0",
         "0.0",
         "0.0",
         "0.0",
         "0.0",
         "0.0",
         "0.0",
         "0.0",
         "0.0",
         "0.0",
         "0.0",
         "0.0",
         "0.0",
         "0.0",
         "0.0",
         "0.0",
         "0.0",
         "0.0",
         "0.0",
         "0.0",
         "0.0",
         "0.0",
         "0.0",
         "0.0",
         "0.0",
         "0.0",
         "0.0",
         "0.0",
         "0.0",
         "0.0",
         "0.0",
         "0.0",
         "0.0",
         "0.0",
         "0.0",
         "0.0",
         "0.0",
         "0.0",
         "0.0",
         "0.0",
         "0.0",
         "0.0",
         "0.0",
         "0.0",
         "0.0",
         "0.0",
         "0.0",
         "0.0",
         "0.0",
         "0.0",
         "0.0",
         "0.0",
         "0.0",
         "0.0",
         "0.0",
         "0.0",
         "0.0",
         "0.0",
         "0.0",
         "0.0",
         "0.0",
         "1.0"
        ],
        [
         "4",
         "0.9252648949623109",
         "0.43335193395614624",
         "0.07361963391304016",
         "0.07919687777757645",
         "0.13664250075817108",
         "0.18293362855911252",
         "0.18293362855911252",
         "0.1823759078979492",
         "0.19687674939632413",
         "0.20356944203376767",
         "0.21472392976284027",
         "0.2074735015630722",
         "0.2074735015630722",
         "0.23201338946819303",
         "0.23647518455982208",
         "0.25543782114982605",
         "0.24149470031261444",
         "0.248187392950058",
         "0.254322350025177",
         "0.2744004428386688",
         "0.28834354877471924",
         "0.2900167405605316",
         "0.29838261008262634",
         "0.3190183937549591",
         "0.3284997344017029",
         "0.3424428403377533",
         "0.3351924121379852",
         "0.32961517572402954",
         "0.32180702686309814",
         "0.3173452317714691",
         "0.3073062002658844",
         "0.28109315037727356",
         "0.261572778224945",
         "0.2587841749191284",
         "0.254322350025177",
         "0.25320690870285034",
         "0.23591746389865875",
         "0.22308979928493497",
         "0.23201338946819303",
         "0.2253206968307495",
         "0.22308979928493497",
         "0.2136084735393524",
         "0.20803123712539673",
         "0.21249303221702573",
         "0.2136084735393524",
         "0.21807026863098145",
         "0.20858895778656003",
         "0.21137757599353793",
         "0.21807026863098145",
         "0.22866703569889069",
         "0.22643613815307617",
         "0.22308979928493497",
         "0.22030116617679596",
         "0.21974344551563263",
         "0.22866703569889069",
         "0.23982152342796323",
         "0.2604573369026184",
         "0.2716118097305298",
         "0.2955939769744873",
         "0.29447853565216064",
         "0.30005577206611633",
         "0.3134411573410034",
         "0.29224762320518494",
         "0.25543782114982605",
         "0.27105408906936646",
         "0.2716118097305298",
         "0.2297824919223785",
         "0.20914667844772336",
         "0.19687674939632413",
         "0.17177914083003995",
         "0.17456775903701782",
         "0.1645287275314331",
         "0.15727829933166504",
         "0.16285555064678192",
         "0.17289459705352783",
         "0.152816504240036",
         "0.06190741807222366",
         "0.0",
         "0.11879531294107436",
         "0.5421081781387329",
         "1.0",
         "0.6603457927703857",
         "0.20412716269493103",
         "0.014500836841762064",
         "0.09369771182537079",
         "0.14835470914840698",
         "0.15058560669422147",
         "0.1567205786705017",
         "0.1723368614912033",
         "0.18349134922027588",
         "0.19241495430469513",
         "0.19353039562702176",
         "0.1723368614912033",
         "0.1918572187423706",
         "0.1974344700574875",
         "0.20803123712539673",
         "0.0",
         "0.0",
         "0.0",
         "0.0",
         "0.0",
         "0.0",
         "0.0",
         "0.0",
         "0.0",
         "0.0",
         "0.0",
         "0.0",
         "0.0",
         "0.0",
         "0.0",
         "0.0",
         "0.0",
         "0.0",
         "0.0",
         "0.0",
         "0.0",
         "0.0",
         "0.0",
         "0.0",
         "0.0",
         "0.0",
         "0.0",
         "0.0",
         "0.0",
         "0.0",
         "0.0",
         "0.0",
         "0.0",
         "0.0",
         "0.0",
         "0.0",
         "0.0",
         "0.0",
         "0.0",
         "0.0",
         "0.0",
         "0.0",
         "0.0",
         "0.0",
         "0.0",
         "0.0",
         "0.0",
         "0.0",
         "0.0",
         "0.0",
         "0.0",
         "0.0",
         "0.0",
         "0.0",
         "0.0",
         "0.0",
         "0.0",
         "0.0",
         "0.0",
         "0.0",
         "0.0",
         "0.0",
         "0.0",
         "0.0",
         "0.0",
         "0.0",
         "0.0",
         "0.0",
         "0.0",
         "0.0",
         "0.0",
         "0.0",
         "0.0",
         "0.0",
         "0.0",
         "0.0",
         "0.0",
         "0.0",
         "0.0",
         "0.0",
         "0.0",
         "0.0",
         "0.0",
         "0.0",
         "0.0",
         "0.0",
         "0.0",
         "0.0",
         "0.0",
         "0.0",
         "0.0",
         "1.0"
        ]
       ],
       "shape": {
        "columns": 188,
        "rows": 5
       }
      },
      "text/html": [
       "<div>\n",
       "<style scoped>\n",
       "    .dataframe tbody tr th:only-of-type {\n",
       "        vertical-align: middle;\n",
       "    }\n",
       "\n",
       "    .dataframe tbody tr th {\n",
       "        vertical-align: top;\n",
       "    }\n",
       "\n",
       "    .dataframe thead th {\n",
       "        text-align: right;\n",
       "    }\n",
       "</style>\n",
       "<table border=\"1\" class=\"dataframe\">\n",
       "  <thead>\n",
       "    <tr style=\"text-align: right;\">\n",
       "      <th></th>\n",
       "      <th>9.322328567504882812e-01</th>\n",
       "      <th>8.696785569190979004e-01</th>\n",
       "      <th>8.861859440803527832e-01</th>\n",
       "      <th>9.296264052391052246e-01</th>\n",
       "      <th>9.087749719619750977e-01</th>\n",
       "      <th>9.339704513549804688e-01</th>\n",
       "      <th>8.010425567626953125e-01</th>\n",
       "      <th>7.497828006744384766e-01</th>\n",
       "      <th>6.872285008430480957e-01</th>\n",
       "      <th>6.350998878479003906e-01</th>\n",
       "      <th>...</th>\n",
       "      <th>0.000000000000000000e+00.117</th>\n",
       "      <th>0.000000000000000000e+00.118</th>\n",
       "      <th>0.000000000000000000e+00.119</th>\n",
       "      <th>0.000000000000000000e+00.120</th>\n",
       "      <th>0.000000000000000000e+00.121</th>\n",
       "      <th>0.000000000000000000e+00.122</th>\n",
       "      <th>0.000000000000000000e+00.123</th>\n",
       "      <th>0.000000000000000000e+00.124</th>\n",
       "      <th>0.000000000000000000e+00.125</th>\n",
       "      <th>1.000000000000000000e+00.1</th>\n",
       "    </tr>\n",
       "  </thead>\n",
       "  <tbody>\n",
       "    <tr>\n",
       "      <th>0</th>\n",
       "      <td>1.000000</td>\n",
       "      <td>0.606941</td>\n",
       "      <td>0.384181</td>\n",
       "      <td>0.254237</td>\n",
       "      <td>0.223567</td>\n",
       "      <td>0.276836</td>\n",
       "      <td>0.253430</td>\n",
       "      <td>0.184826</td>\n",
       "      <td>0.153349</td>\n",
       "      <td>0.121872</td>\n",
       "      <td>...</td>\n",
       "      <td>0.0</td>\n",
       "      <td>0.0</td>\n",
       "      <td>0.0</td>\n",
       "      <td>0.0</td>\n",
       "      <td>0.0</td>\n",
       "      <td>0.0</td>\n",
       "      <td>0.0</td>\n",
       "      <td>0.0</td>\n",
       "      <td>0.0</td>\n",
       "      <td>1.0</td>\n",
       "    </tr>\n",
       "    <tr>\n",
       "      <th>1</th>\n",
       "      <td>1.000000</td>\n",
       "      <td>0.951613</td>\n",
       "      <td>0.923963</td>\n",
       "      <td>0.853303</td>\n",
       "      <td>0.791859</td>\n",
       "      <td>0.734255</td>\n",
       "      <td>0.672043</td>\n",
       "      <td>0.685100</td>\n",
       "      <td>0.670507</td>\n",
       "      <td>0.667435</td>\n",
       "      <td>...</td>\n",
       "      <td>0.0</td>\n",
       "      <td>0.0</td>\n",
       "      <td>0.0</td>\n",
       "      <td>0.0</td>\n",
       "      <td>0.0</td>\n",
       "      <td>0.0</td>\n",
       "      <td>0.0</td>\n",
       "      <td>0.0</td>\n",
       "      <td>0.0</td>\n",
       "      <td>1.0</td>\n",
       "    </tr>\n",
       "    <tr>\n",
       "      <th>2</th>\n",
       "      <td>0.977819</td>\n",
       "      <td>0.899261</td>\n",
       "      <td>0.230129</td>\n",
       "      <td>0.032348</td>\n",
       "      <td>0.142329</td>\n",
       "      <td>0.223660</td>\n",
       "      <td>0.328096</td>\n",
       "      <td>0.367837</td>\n",
       "      <td>0.381701</td>\n",
       "      <td>0.389094</td>\n",
       "      <td>...</td>\n",
       "      <td>0.0</td>\n",
       "      <td>0.0</td>\n",
       "      <td>0.0</td>\n",
       "      <td>0.0</td>\n",
       "      <td>0.0</td>\n",
       "      <td>0.0</td>\n",
       "      <td>0.0</td>\n",
       "      <td>0.0</td>\n",
       "      <td>0.0</td>\n",
       "      <td>1.0</td>\n",
       "    </tr>\n",
       "    <tr>\n",
       "      <th>3</th>\n",
       "      <td>0.935618</td>\n",
       "      <td>0.801661</td>\n",
       "      <td>0.805815</td>\n",
       "      <td>1.000000</td>\n",
       "      <td>0.722741</td>\n",
       "      <td>0.480789</td>\n",
       "      <td>0.454829</td>\n",
       "      <td>0.319834</td>\n",
       "      <td>0.266874</td>\n",
       "      <td>0.308411</td>\n",
       "      <td>...</td>\n",
       "      <td>0.0</td>\n",
       "      <td>0.0</td>\n",
       "      <td>0.0</td>\n",
       "      <td>0.0</td>\n",
       "      <td>0.0</td>\n",
       "      <td>0.0</td>\n",
       "      <td>0.0</td>\n",
       "      <td>0.0</td>\n",
       "      <td>0.0</td>\n",
       "      <td>1.0</td>\n",
       "    </tr>\n",
       "    <tr>\n",
       "      <th>4</th>\n",
       "      <td>0.925265</td>\n",
       "      <td>0.433352</td>\n",
       "      <td>0.073620</td>\n",
       "      <td>0.079197</td>\n",
       "      <td>0.136643</td>\n",
       "      <td>0.182934</td>\n",
       "      <td>0.182934</td>\n",
       "      <td>0.182376</td>\n",
       "      <td>0.196877</td>\n",
       "      <td>0.203569</td>\n",
       "      <td>...</td>\n",
       "      <td>0.0</td>\n",
       "      <td>0.0</td>\n",
       "      <td>0.0</td>\n",
       "      <td>0.0</td>\n",
       "      <td>0.0</td>\n",
       "      <td>0.0</td>\n",
       "      <td>0.0</td>\n",
       "      <td>0.0</td>\n",
       "      <td>0.0</td>\n",
       "      <td>1.0</td>\n",
       "    </tr>\n",
       "  </tbody>\n",
       "</table>\n",
       "<p>5 rows × 188 columns</p>\n",
       "</div>"
      ],
      "text/plain": [
       "   9.322328567504882812e-01  8.696785569190979004e-01  \\\n",
       "0                  1.000000                  0.606941   \n",
       "1                  1.000000                  0.951613   \n",
       "2                  0.977819                  0.899261   \n",
       "3                  0.935618                  0.801661   \n",
       "4                  0.925265                  0.433352   \n",
       "\n",
       "   8.861859440803527832e-01  9.296264052391052246e-01  \\\n",
       "0                  0.384181                  0.254237   \n",
       "1                  0.923963                  0.853303   \n",
       "2                  0.230129                  0.032348   \n",
       "3                  0.805815                  1.000000   \n",
       "4                  0.073620                  0.079197   \n",
       "\n",
       "   9.087749719619750977e-01  9.339704513549804688e-01  \\\n",
       "0                  0.223567                  0.276836   \n",
       "1                  0.791859                  0.734255   \n",
       "2                  0.142329                  0.223660   \n",
       "3                  0.722741                  0.480789   \n",
       "4                  0.136643                  0.182934   \n",
       "\n",
       "   8.010425567626953125e-01  7.497828006744384766e-01  \\\n",
       "0                  0.253430                  0.184826   \n",
       "1                  0.672043                  0.685100   \n",
       "2                  0.328096                  0.367837   \n",
       "3                  0.454829                  0.319834   \n",
       "4                  0.182934                  0.182376   \n",
       "\n",
       "   6.872285008430480957e-01  6.350998878479003906e-01  ...  \\\n",
       "0                  0.153349                  0.121872  ...   \n",
       "1                  0.670507                  0.667435  ...   \n",
       "2                  0.381701                  0.389094  ...   \n",
       "3                  0.266874                  0.308411  ...   \n",
       "4                  0.196877                  0.203569  ...   \n",
       "\n",
       "   0.000000000000000000e+00.117  0.000000000000000000e+00.118  \\\n",
       "0                           0.0                           0.0   \n",
       "1                           0.0                           0.0   \n",
       "2                           0.0                           0.0   \n",
       "3                           0.0                           0.0   \n",
       "4                           0.0                           0.0   \n",
       "\n",
       "   0.000000000000000000e+00.119  0.000000000000000000e+00.120  \\\n",
       "0                           0.0                           0.0   \n",
       "1                           0.0                           0.0   \n",
       "2                           0.0                           0.0   \n",
       "3                           0.0                           0.0   \n",
       "4                           0.0                           0.0   \n",
       "\n",
       "   0.000000000000000000e+00.121  0.000000000000000000e+00.122  \\\n",
       "0                           0.0                           0.0   \n",
       "1                           0.0                           0.0   \n",
       "2                           0.0                           0.0   \n",
       "3                           0.0                           0.0   \n",
       "4                           0.0                           0.0   \n",
       "\n",
       "   0.000000000000000000e+00.123  0.000000000000000000e+00.124  \\\n",
       "0                           0.0                           0.0   \n",
       "1                           0.0                           0.0   \n",
       "2                           0.0                           0.0   \n",
       "3                           0.0                           0.0   \n",
       "4                           0.0                           0.0   \n",
       "\n",
       "   0.000000000000000000e+00.125  1.000000000000000000e+00.1  \n",
       "0                           0.0                         1.0  \n",
       "1                           0.0                         1.0  \n",
       "2                           0.0                         1.0  \n",
       "3                           0.0                         1.0  \n",
       "4                           0.0                         1.0  \n",
       "\n",
       "[5 rows x 188 columns]"
      ]
     },
     "execution_count": 5,
     "metadata": {},
     "output_type": "execute_result"
    }
   ],
   "source": [
    "df_ptbdb = pd.read_csv('./ECG_DATASET_V2/ptbdb_abnormal.csv')\n",
    "df_mitbih = pd.read_csv('./ECG_DATASET_V2/mitbih_train.csv')\n",
    "df_ptbdb.head()"
   ]
  },
  {
   "cell_type": "code",
   "execution_count": 7,
   "metadata": {
    "id": "mgHScVqlo2tN",
    "outputId": "40fd6a61-cbb1-49b7-865e-729f83759a01",
    "trusted": true
   },
   "outputs": [
    {
     "name": "stdout",
     "output_type": "stream",
     "text": [
      "<class 'pandas.core.frame.DataFrame'>\n",
      "Index: 109446 entries, 0 to 21891\n",
      "Columns: 189 entries, 0 to label\n",
      "dtypes: float64(188), object(1)\n",
      "memory usage: 158.7+ MB\n",
      "None\n"
     ]
    }
   ],
   "source": [
    "df_mitbih_train = pd.read_csv('./ECG_DATASET_V2/mitbih_train.csv', header=None)\n",
    "df_mitbih_test = pd.read_csv('./ECG_DATASET_V2/mitbih_test.csv', header=None)\n",
    "df_mitbih = pd.concat([df_mitbih_train, df_mitbih_test], axis=0)\n",
    "df_mitbih.rename(columns={187: 'class'}, inplace=True)\n",
    "\n",
    "id_to_label = {\n",
    "    0: \"Normal\",\n",
    "    1: \"Artial Premature\",\n",
    "    2: \"Premature ventricular contraction\",\n",
    "    3: \"Fusion of ventricular and normal\",\n",
    "    4: \"Fusion of paced and normal\"\n",
    "}\n",
    "df_mitbih['label'] = df_mitbih.iloc[:, -1].map(id_to_label)\n",
    "print(df_mitbih.info())"
   ]
  },
  {
   "cell_type": "code",
   "execution_count": 8,
   "metadata": {
    "id": "cFK-v-3Ho2tN",
    "trusted": true
   },
   "outputs": [],
   "source": [
    "df_mitbih.to_csv('data.csv', index=False)\n",
    "config.csv_path = 'data.csv'"
   ]
  },
  {
   "cell_type": "markdown",
   "metadata": {
    "id": "hv3xX7FWo2tO"
   },
   "source": [
    "# Basic EDA"
   ]
  },
  {
   "cell_type": "code",
   "execution_count": 10,
   "metadata": {},
   "outputs": [
    {
     "name": "stdout",
     "output_type": "stream",
     "text": [
      "/mnt/d/DOCUMENTS/MIA-UNI/TESIS2/Tesis-MIA-UNI/notebooks\n"
     ]
    }
   ],
   "source": [
    "!pwd"
   ]
  },
  {
   "cell_type": "code",
   "execution_count": 11,
   "metadata": {},
   "outputs": [
    {
     "data": {
      "application/vnd.microsoft.datawrangler.viewer.v0+json": {
       "columns": [
        {
         "name": "index",
         "rawType": "int64",
         "type": "integer"
        },
        {
         "name": "0",
         "rawType": "float64",
         "type": "float"
        },
        {
         "name": "1",
         "rawType": "float64",
         "type": "float"
        },
        {
         "name": "2",
         "rawType": "float64",
         "type": "float"
        },
        {
         "name": "3",
         "rawType": "float64",
         "type": "float"
        },
        {
         "name": "4",
         "rawType": "float64",
         "type": "float"
        },
        {
         "name": "5",
         "rawType": "float64",
         "type": "float"
        },
        {
         "name": "6",
         "rawType": "float64",
         "type": "float"
        },
        {
         "name": "7",
         "rawType": "float64",
         "type": "float"
        },
        {
         "name": "8",
         "rawType": "float64",
         "type": "float"
        },
        {
         "name": "9",
         "rawType": "float64",
         "type": "float"
        },
        {
         "name": "10",
         "rawType": "float64",
         "type": "float"
        },
        {
         "name": "11",
         "rawType": "float64",
         "type": "float"
        },
        {
         "name": "12",
         "rawType": "float64",
         "type": "float"
        },
        {
         "name": "13",
         "rawType": "float64",
         "type": "float"
        },
        {
         "name": "14",
         "rawType": "float64",
         "type": "float"
        },
        {
         "name": "15",
         "rawType": "float64",
         "type": "float"
        },
        {
         "name": "16",
         "rawType": "float64",
         "type": "float"
        },
        {
         "name": "17",
         "rawType": "float64",
         "type": "float"
        },
        {
         "name": "18",
         "rawType": "float64",
         "type": "float"
        },
        {
         "name": "19",
         "rawType": "float64",
         "type": "float"
        },
        {
         "name": "20",
         "rawType": "float64",
         "type": "float"
        },
        {
         "name": "21",
         "rawType": "float64",
         "type": "float"
        },
        {
         "name": "22",
         "rawType": "float64",
         "type": "float"
        },
        {
         "name": "23",
         "rawType": "float64",
         "type": "float"
        },
        {
         "name": "24",
         "rawType": "float64",
         "type": "float"
        },
        {
         "name": "25",
         "rawType": "float64",
         "type": "float"
        },
        {
         "name": "26",
         "rawType": "float64",
         "type": "float"
        },
        {
         "name": "27",
         "rawType": "float64",
         "type": "float"
        },
        {
         "name": "28",
         "rawType": "float64",
         "type": "float"
        },
        {
         "name": "29",
         "rawType": "float64",
         "type": "float"
        },
        {
         "name": "30",
         "rawType": "float64",
         "type": "float"
        },
        {
         "name": "31",
         "rawType": "float64",
         "type": "float"
        },
        {
         "name": "32",
         "rawType": "float64",
         "type": "float"
        },
        {
         "name": "33",
         "rawType": "float64",
         "type": "float"
        },
        {
         "name": "34",
         "rawType": "float64",
         "type": "float"
        },
        {
         "name": "35",
         "rawType": "float64",
         "type": "float"
        },
        {
         "name": "36",
         "rawType": "float64",
         "type": "float"
        },
        {
         "name": "37",
         "rawType": "float64",
         "type": "float"
        },
        {
         "name": "38",
         "rawType": "float64",
         "type": "float"
        },
        {
         "name": "39",
         "rawType": "float64",
         "type": "float"
        },
        {
         "name": "40",
         "rawType": "float64",
         "type": "float"
        },
        {
         "name": "41",
         "rawType": "float64",
         "type": "float"
        },
        {
         "name": "42",
         "rawType": "float64",
         "type": "float"
        },
        {
         "name": "43",
         "rawType": "float64",
         "type": "float"
        },
        {
         "name": "44",
         "rawType": "float64",
         "type": "float"
        },
        {
         "name": "45",
         "rawType": "float64",
         "type": "float"
        },
        {
         "name": "46",
         "rawType": "float64",
         "type": "float"
        },
        {
         "name": "47",
         "rawType": "float64",
         "type": "float"
        },
        {
         "name": "48",
         "rawType": "float64",
         "type": "float"
        },
        {
         "name": "49",
         "rawType": "float64",
         "type": "float"
        },
        {
         "name": "50",
         "rawType": "float64",
         "type": "float"
        },
        {
         "name": "51",
         "rawType": "float64",
         "type": "float"
        },
        {
         "name": "52",
         "rawType": "float64",
         "type": "float"
        },
        {
         "name": "53",
         "rawType": "float64",
         "type": "float"
        },
        {
         "name": "54",
         "rawType": "float64",
         "type": "float"
        },
        {
         "name": "55",
         "rawType": "float64",
         "type": "float"
        },
        {
         "name": "56",
         "rawType": "float64",
         "type": "float"
        },
        {
         "name": "57",
         "rawType": "float64",
         "type": "float"
        },
        {
         "name": "58",
         "rawType": "float64",
         "type": "float"
        },
        {
         "name": "59",
         "rawType": "float64",
         "type": "float"
        },
        {
         "name": "60",
         "rawType": "float64",
         "type": "float"
        },
        {
         "name": "61",
         "rawType": "float64",
         "type": "float"
        },
        {
         "name": "62",
         "rawType": "float64",
         "type": "float"
        },
        {
         "name": "63",
         "rawType": "float64",
         "type": "float"
        },
        {
         "name": "64",
         "rawType": "float64",
         "type": "float"
        },
        {
         "name": "65",
         "rawType": "float64",
         "type": "float"
        },
        {
         "name": "66",
         "rawType": "float64",
         "type": "float"
        },
        {
         "name": "67",
         "rawType": "float64",
         "type": "float"
        },
        {
         "name": "68",
         "rawType": "float64",
         "type": "float"
        },
        {
         "name": "69",
         "rawType": "float64",
         "type": "float"
        },
        {
         "name": "70",
         "rawType": "float64",
         "type": "float"
        },
        {
         "name": "71",
         "rawType": "float64",
         "type": "float"
        },
        {
         "name": "72",
         "rawType": "float64",
         "type": "float"
        },
        {
         "name": "73",
         "rawType": "float64",
         "type": "float"
        },
        {
         "name": "74",
         "rawType": "float64",
         "type": "float"
        },
        {
         "name": "75",
         "rawType": "float64",
         "type": "float"
        },
        {
         "name": "76",
         "rawType": "float64",
         "type": "float"
        },
        {
         "name": "77",
         "rawType": "float64",
         "type": "float"
        },
        {
         "name": "78",
         "rawType": "float64",
         "type": "float"
        },
        {
         "name": "79",
         "rawType": "float64",
         "type": "float"
        },
        {
         "name": "80",
         "rawType": "float64",
         "type": "float"
        },
        {
         "name": "81",
         "rawType": "float64",
         "type": "float"
        },
        {
         "name": "82",
         "rawType": "float64",
         "type": "float"
        },
        {
         "name": "83",
         "rawType": "float64",
         "type": "float"
        },
        {
         "name": "84",
         "rawType": "float64",
         "type": "float"
        },
        {
         "name": "85",
         "rawType": "float64",
         "type": "float"
        },
        {
         "name": "86",
         "rawType": "float64",
         "type": "float"
        },
        {
         "name": "87",
         "rawType": "float64",
         "type": "float"
        },
        {
         "name": "88",
         "rawType": "float64",
         "type": "float"
        },
        {
         "name": "89",
         "rawType": "float64",
         "type": "float"
        },
        {
         "name": "90",
         "rawType": "float64",
         "type": "float"
        },
        {
         "name": "91",
         "rawType": "float64",
         "type": "float"
        },
        {
         "name": "92",
         "rawType": "float64",
         "type": "float"
        },
        {
         "name": "93",
         "rawType": "float64",
         "type": "float"
        },
        {
         "name": "94",
         "rawType": "float64",
         "type": "float"
        },
        {
         "name": "95",
         "rawType": "float64",
         "type": "float"
        },
        {
         "name": "96",
         "rawType": "float64",
         "type": "float"
        },
        {
         "name": "97",
         "rawType": "float64",
         "type": "float"
        },
        {
         "name": "98",
         "rawType": "float64",
         "type": "float"
        },
        {
         "name": "99",
         "rawType": "float64",
         "type": "float"
        },
        {
         "name": "100",
         "rawType": "float64",
         "type": "float"
        },
        {
         "name": "101",
         "rawType": "float64",
         "type": "float"
        },
        {
         "name": "102",
         "rawType": "float64",
         "type": "float"
        },
        {
         "name": "103",
         "rawType": "float64",
         "type": "float"
        },
        {
         "name": "104",
         "rawType": "float64",
         "type": "float"
        },
        {
         "name": "105",
         "rawType": "float64",
         "type": "float"
        },
        {
         "name": "106",
         "rawType": "float64",
         "type": "float"
        },
        {
         "name": "107",
         "rawType": "float64",
         "type": "float"
        },
        {
         "name": "108",
         "rawType": "float64",
         "type": "float"
        },
        {
         "name": "109",
         "rawType": "float64",
         "type": "float"
        },
        {
         "name": "110",
         "rawType": "float64",
         "type": "float"
        },
        {
         "name": "111",
         "rawType": "float64",
         "type": "float"
        },
        {
         "name": "112",
         "rawType": "float64",
         "type": "float"
        },
        {
         "name": "113",
         "rawType": "float64",
         "type": "float"
        },
        {
         "name": "114",
         "rawType": "float64",
         "type": "float"
        },
        {
         "name": "115",
         "rawType": "float64",
         "type": "float"
        },
        {
         "name": "116",
         "rawType": "float64",
         "type": "float"
        },
        {
         "name": "117",
         "rawType": "float64",
         "type": "float"
        },
        {
         "name": "118",
         "rawType": "float64",
         "type": "float"
        },
        {
         "name": "119",
         "rawType": "float64",
         "type": "float"
        },
        {
         "name": "120",
         "rawType": "float64",
         "type": "float"
        },
        {
         "name": "121",
         "rawType": "float64",
         "type": "float"
        },
        {
         "name": "122",
         "rawType": "float64",
         "type": "float"
        },
        {
         "name": "123",
         "rawType": "float64",
         "type": "float"
        },
        {
         "name": "124",
         "rawType": "float64",
         "type": "float"
        },
        {
         "name": "125",
         "rawType": "float64",
         "type": "float"
        },
        {
         "name": "126",
         "rawType": "float64",
         "type": "float"
        },
        {
         "name": "127",
         "rawType": "float64",
         "type": "float"
        },
        {
         "name": "128",
         "rawType": "float64",
         "type": "float"
        },
        {
         "name": "129",
         "rawType": "float64",
         "type": "float"
        },
        {
         "name": "130",
         "rawType": "float64",
         "type": "float"
        },
        {
         "name": "131",
         "rawType": "float64",
         "type": "float"
        },
        {
         "name": "132",
         "rawType": "float64",
         "type": "float"
        },
        {
         "name": "133",
         "rawType": "float64",
         "type": "float"
        },
        {
         "name": "134",
         "rawType": "float64",
         "type": "float"
        },
        {
         "name": "135",
         "rawType": "float64",
         "type": "float"
        },
        {
         "name": "136",
         "rawType": "float64",
         "type": "float"
        },
        {
         "name": "137",
         "rawType": "float64",
         "type": "float"
        },
        {
         "name": "138",
         "rawType": "float64",
         "type": "float"
        },
        {
         "name": "139",
         "rawType": "float64",
         "type": "float"
        },
        {
         "name": "140",
         "rawType": "float64",
         "type": "float"
        },
        {
         "name": "141",
         "rawType": "float64",
         "type": "float"
        },
        {
         "name": "142",
         "rawType": "float64",
         "type": "float"
        },
        {
         "name": "143",
         "rawType": "float64",
         "type": "float"
        },
        {
         "name": "144",
         "rawType": "float64",
         "type": "float"
        },
        {
         "name": "145",
         "rawType": "float64",
         "type": "float"
        },
        {
         "name": "146",
         "rawType": "float64",
         "type": "float"
        },
        {
         "name": "147",
         "rawType": "float64",
         "type": "float"
        },
        {
         "name": "148",
         "rawType": "float64",
         "type": "float"
        },
        {
         "name": "149",
         "rawType": "float64",
         "type": "float"
        },
        {
         "name": "150",
         "rawType": "float64",
         "type": "float"
        },
        {
         "name": "151",
         "rawType": "float64",
         "type": "float"
        },
        {
         "name": "152",
         "rawType": "float64",
         "type": "float"
        },
        {
         "name": "153",
         "rawType": "float64",
         "type": "float"
        },
        {
         "name": "154",
         "rawType": "float64",
         "type": "float"
        },
        {
         "name": "155",
         "rawType": "float64",
         "type": "float"
        },
        {
         "name": "156",
         "rawType": "float64",
         "type": "float"
        },
        {
         "name": "157",
         "rawType": "float64",
         "type": "float"
        },
        {
         "name": "158",
         "rawType": "float64",
         "type": "float"
        },
        {
         "name": "159",
         "rawType": "float64",
         "type": "float"
        },
        {
         "name": "160",
         "rawType": "float64",
         "type": "float"
        },
        {
         "name": "161",
         "rawType": "float64",
         "type": "float"
        },
        {
         "name": "162",
         "rawType": "float64",
         "type": "float"
        },
        {
         "name": "163",
         "rawType": "float64",
         "type": "float"
        },
        {
         "name": "164",
         "rawType": "float64",
         "type": "float"
        },
        {
         "name": "165",
         "rawType": "float64",
         "type": "float"
        },
        {
         "name": "166",
         "rawType": "float64",
         "type": "float"
        },
        {
         "name": "167",
         "rawType": "float64",
         "type": "float"
        },
        {
         "name": "168",
         "rawType": "float64",
         "type": "float"
        },
        {
         "name": "169",
         "rawType": "float64",
         "type": "float"
        },
        {
         "name": "170",
         "rawType": "float64",
         "type": "float"
        },
        {
         "name": "171",
         "rawType": "float64",
         "type": "float"
        },
        {
         "name": "172",
         "rawType": "float64",
         "type": "float"
        },
        {
         "name": "173",
         "rawType": "float64",
         "type": "float"
        },
        {
         "name": "174",
         "rawType": "float64",
         "type": "float"
        },
        {
         "name": "175",
         "rawType": "float64",
         "type": "float"
        },
        {
         "name": "176",
         "rawType": "float64",
         "type": "float"
        },
        {
         "name": "177",
         "rawType": "float64",
         "type": "float"
        },
        {
         "name": "178",
         "rawType": "float64",
         "type": "float"
        },
        {
         "name": "179",
         "rawType": "float64",
         "type": "float"
        },
        {
         "name": "180",
         "rawType": "float64",
         "type": "float"
        },
        {
         "name": "181",
         "rawType": "float64",
         "type": "float"
        },
        {
         "name": "182",
         "rawType": "float64",
         "type": "float"
        },
        {
         "name": "183",
         "rawType": "float64",
         "type": "float"
        },
        {
         "name": "184",
         "rawType": "float64",
         "type": "float"
        },
        {
         "name": "185",
         "rawType": "float64",
         "type": "float"
        },
        {
         "name": "186",
         "rawType": "float64",
         "type": "float"
        },
        {
         "name": "class",
         "rawType": "float64",
         "type": "float"
        },
        {
         "name": "label",
         "rawType": "object",
         "type": "string"
        }
       ],
       "ref": "6bd6200e-e714-4c6d-8c7a-a37cb9373527",
       "rows": [
        [
         "0",
         "0.9779411554336548",
         "0.9264705777168274",
         "0.6813725233078003",
         "0.2450980395078659",
         "0.1544117629528045",
         "0.1911764740943908",
         "0.1519607901573181",
         "0.0857843160629272",
         "0.0588235296308994",
         "0.0490196086466312",
         "0.0441176481544971",
         "0.0612745098769664",
         "0.0661764740943908",
         "0.0612745098769664",
         "0.0490196086466312",
         "0.073529414832592",
         "0.0612745098769664",
         "0.0612745098769664",
         "0.0661764740943908",
         "0.0686274543404579",
         "0.0955882370471954",
         "0.075980395078659",
         "0.0931372568011283",
         "0.1053921580314636",
         "0.1151960790157318",
         "0.1029411777853965",
         "0.1176470592617988",
         "0.125",
         "0.1421568691730499",
         "0.1274509876966476",
         "0.1519607901573181",
         "0.1446078419685363",
         "0.1642156839370727",
         "0.1446078419685363",
         "0.1593137234449386",
         "0.1519607901573181",
         "0.1544117629528045",
         "0.1421568691730499",
         "0.1519607901573181",
         "0.1519607901573181",
         "0.147058829665184",
         "0.1323529481887817",
         "0.1274509876966476",
         "0.1348039209842682",
         "0.1372549086809158",
         "0.1127450987696647",
         "0.1078431382775306",
         "0.1053921580314636",
         "0.1078431382775306",
         "0.0980392172932624",
         "0.0931372568011283",
         "0.1029411777853965",
         "0.1004901975393295",
         "0.1053921580314636",
         "0.1029411777853965",
         "0.1176470592617988",
         "0.1053921580314636",
         "0.1225490197539329",
         "0.1274509876966476",
         "0.1421568691730499",
         "0.147058829665184",
         "0.1446078419685363",
         "0.1740196049213409",
         "0.2303921580314636",
         "0.2377450913190841",
         "0.2475490123033523",
         "0.2303921580314636",
         "0.2254901975393295",
         "0.1985294073820114",
         "0.1764705926179886",
         "0.1323529481887817",
         "0.125",
         "0.1176470592617988",
         "0.1225490197539329",
         "0.1127450987696647",
         "0.129901960492134",
         "0.1151960790157318",
         "0.0833333358168601",
         "0.0",
         "0.0661764740943908",
         "0.3063725531101227",
         "0.6127451062202454",
         "0.8602941036224365",
         "1.0",
         "0.9583333134651184",
         "0.7450980544090272",
         "0.3039215803146362",
         "0.1642156839370727",
         "0.2058823555707931",
         "0.1642156839370727",
         "0.1029411777853965",
         "0.0955882370471954",
         "0.0906862765550613",
         "0.1004901975393295",
         "0.0955882370471954",
         "0.0980392172932624",
         "0.0931372568011283",
         "0.0980392172932624",
         "0.0955882370471954",
         "0.1127450987696647",
         "0.0",
         "0.0",
         "0.0",
         "0.0",
         "0.0",
         "0.0",
         "0.0",
         "0.0",
         "0.0",
         "0.0",
         "0.0",
         "0.0",
         "0.0",
         "0.0",
         "0.0",
         "0.0",
         "0.0",
         "0.0",
         "0.0",
         "0.0",
         "0.0",
         "0.0",
         "0.0",
         "0.0",
         "0.0",
         "0.0",
         "0.0",
         "0.0",
         "0.0",
         "0.0",
         "0.0",
         "0.0",
         "0.0",
         "0.0",
         "0.0",
         "0.0",
         "0.0",
         "0.0",
         "0.0",
         "0.0",
         "0.0",
         "0.0",
         "0.0",
         "0.0",
         "0.0",
         "0.0",
         "0.0",
         "0.0",
         "0.0",
         "0.0",
         "0.0",
         "0.0",
         "0.0",
         "0.0",
         "0.0",
         "0.0",
         "0.0",
         "0.0",
         "0.0",
         "0.0",
         "0.0",
         "0.0",
         "0.0",
         "0.0",
         "0.0",
         "0.0",
         "0.0",
         "0.0",
         "0.0",
         "0.0",
         "0.0",
         "0.0",
         "0.0",
         "0.0",
         "0.0",
         "0.0",
         "0.0",
         "0.0",
         "0.0",
         "0.0",
         "0.0",
         "0.0",
         "0.0",
         "0.0",
         "0.0",
         "0.0",
         "0.0",
         "0.0",
         "Normal"
        ],
        [
         "1",
         "0.9601139426231384",
         "0.8632478713989258",
         "0.4615384638309479",
         "0.1965811997652053",
         "0.0940170958638191",
         "0.1253561228513717",
         "0.0997150987386703",
         "0.0883190855383873",
         "0.0740740746259689",
         "0.082621082663536",
         "0.0740740746259689",
         "0.0626780614256858",
         "0.0655270665884018",
         "0.0655270665884018",
         "0.0626780614256858",
         "0.0769230797886848",
         "0.071225069463253",
         "0.082621082663536",
         "0.0911680907011032",
         "0.0968660935759544",
         "0.082621082663536",
         "0.082621082663536",
         "0.0911680907011032",
         "0.1054131090641021",
         "0.1225071251392364",
         "0.1481481492519378",
         "0.1823361814022064",
         "0.1937321871519088",
         "0.2136752158403397",
         "0.2079772055149078",
         "0.2222222238779068",
         "0.25356125831604",
         "0.2706552743911743",
         "0.2877492904663085",
         "0.2849002778530121",
         "0.2934472858905792",
         "0.2564102709293365",
         "0.2478632479906082",
         "0.1880341917276382",
         "0.1452991515398025",
         "0.1082621067762374",
         "0.082621082663536",
         "0.0797720775008201",
         "0.0740740746259689",
         "0.0142450146377086",
         "0.0113960113376379",
         "0.0626780614256858",
         "0.0512820519506931",
         "0.0569800585508346",
         "0.0484330467879772",
         "0.0284900292754173",
         "0.0313390307128429",
         "0.0769230797886848",
         "0.0256410259753465",
         "0.0284900292754173",
         "0.0370370373129844",
         "0.0940170958638191",
         "0.0854700878262519",
         "0.03988603875041",
         "0.0598290599882602",
         "0.0740740746259689",
         "0.0797720775008201",
         "0.0911680907011032",
         "0.0997150987386703",
         "0.1082621067762374",
         "0.0883190855383873",
         "0.0911680907011032",
         "0.0655270665884018",
         "0.0854700878262519",
         "0.0883190855383873",
         "0.0769230797886848",
         "0.082621082663536",
         "0.0968660935759544",
         "0.0997150987386703",
         "0.1339031308889389",
         "0.1025641039013862",
         "0.03988603875041",
         "0.0655270665884018",
         "0.0740740746259689",
         "0.082621082663536",
         "0.0854700878262519",
         "0.0569800585508346",
         "0.0455840453505516",
         "0.1025641039013862",
         "0.03988603875041",
         "0.0113960113376379",
         "0.0170940179377794",
         "0.0313390307128429",
         "0.0056980056688189",
         "0.0085470089688897",
         "0.0313390307128429",
         "0.0512820519506931",
         "0.0569800585508346",
         "0.0883190855383873",
         "0.0655270665884018",
         "0.0113960113376379",
         "0.0569800585508346",
         "0.03988603875041",
         "0.03988603875041",
         "0.0256410259753465",
         "0.0028490028344094",
         "0.019943019375205",
         "0.0256410259753465",
         "0.0113960113376379",
         "0.0284900292754173",
         "0.019943019375205",
         "0.0227920226752758",
         "0.0341880358755588",
         "0.0142450146377086",
         "0.0512820519506931",
         "0.0683760717511177",
         "0.1396011412143707",
         "0.2877492904663085",
         "0.5270655155181885",
         "0.7777777910232544",
         "1.0",
         "0.8888888955116272",
         "0.4928774833679199",
         "0.1908831894397735",
         "0.0883190855383873",
         "0.0626780614256858",
         "0.0341880358755588",
         "0.0",
         "0.0341880358755588",
         "0.0170940179377794",
         "0.0028490028344094",
         "0.0",
         "0.0484330467879772",
         "0.0484330467879772",
         "0.0541310533881187",
         "0.0427350439131259",
         "0.0541310533881187",
         "0.0598290599882602",
         "0.0626780614256858",
         "0.071225069463253",
         "0.0769230797886848",
         "0.0997150987386703",
         "0.0",
         "0.0",
         "0.0",
         "0.0",
         "0.0",
         "0.0",
         "0.0",
         "0.0",
         "0.0",
         "0.0",
         "0.0",
         "0.0",
         "0.0",
         "0.0",
         "0.0",
         "0.0",
         "0.0",
         "0.0",
         "0.0",
         "0.0",
         "0.0",
         "0.0",
         "0.0",
         "0.0",
         "0.0",
         "0.0",
         "0.0",
         "0.0",
         "0.0",
         "0.0",
         "0.0",
         "0.0",
         "0.0",
         "0.0",
         "0.0",
         "0.0",
         "0.0",
         "0.0",
         "0.0",
         "0.0",
         "0.0",
         "0.0",
         "0.0",
         "0.0",
         "0.0",
         "0.0",
         "0.0",
         "0.0",
         "0.0",
         "0.0",
         "0.0",
         "Normal"
        ],
        [
         "2",
         "1.0",
         "0.6594594717025757",
         "0.1864864826202392",
         "0.0702702701091766",
         "0.0702702701091766",
         "0.0594594590365886",
         "0.0567567571997642",
         "0.0432432442903518",
         "0.0540540553629398",
         "0.0459459461271762",
         "0.0567567571997642",
         "0.0432432442903518",
         "0.0675675645470619",
         "0.062162160873413",
         "0.0783783793449401",
         "0.0729729756712913",
         "0.0864864885807037",
         "0.0810810774564743",
         "0.1081081107258796",
         "0.1108108088374137",
         "0.1351351290941238",
         "0.1351351290941238",
         "0.1702702641487121",
         "0.1837837845087051",
         "0.2162162214517593",
         "0.2378378361463546",
         "0.2702702581882477",
         "0.2864864766597748",
         "0.316216230392456",
         "0.318918913602829",
         "0.3324324190616608",
         "0.2972972989082336",
         "0.2675675749778747",
         "0.2162162214517593",
         "0.1891891956329345",
         "0.1324324309825897",
         "0.1189189180731773",
         "0.0648648664355278",
         "0.0648648664355278",
         "0.0432432442903518",
         "0.0540540553629398",
         "0.0378378368914127",
         "0.0432432442903518",
         "0.0216216221451759",
         "0.0459459461271762",
         "0.0351351350545883",
         "0.0567567571997642",
         "0.0351351350545883",
         "0.0378378368914127",
         "0.0324324332177639",
         "0.0432432442903518",
         "0.0378378368914127",
         "0.0513513498008251",
         "0.0297297295182943",
         "0.0486486479640007",
         "0.0297297295182943",
         "0.0567567571997642",
         "0.0513513498008251",
         "0.0783783793449401",
         "0.0648648664355278",
         "0.0945945978164672",
         "0.0972972959280014",
         "0.1162162125110626",
         "0.0945945978164672",
         "0.0918918922543525",
         "0.0648648664355278",
         "0.0675675645470619",
         "0.0405405387282371",
         "0.0486486479640007",
         "0.0189189184457063",
         "0.0216216221451759",
         "0.0081081083044409",
         "0.0297297295182943",
         "0.0108108110725879",
         "0.0216216221451759",
         "0.0054054055362939",
         "0.0324324332177639",
         "0.0189189184457063",
         "0.0216216221451759",
         "0.0405405387282371",
         "0.2405405342578888",
         "0.5891891717910768",
         "0.9648648500442506",
         "0.5837838053703308",
         "0.121621623635292",
         "0.0",
         "0.0351351350545883",
         "0.0351351350545883",
         "0.0270270276814699",
         "0.0216216221451759",
         "0.0297297295182943",
         "0.0108108110725879",
         "0.0324324332177639",
         "0.0216216221451759",
         "0.0513513498008251",
         "0.0",
         "0.0",
         "0.0",
         "0.0",
         "0.0",
         "0.0",
         "0.0",
         "0.0",
         "0.0",
         "0.0",
         "0.0",
         "0.0",
         "0.0",
         "0.0",
         "0.0",
         "0.0",
         "0.0",
         "0.0",
         "0.0",
         "0.0",
         "0.0",
         "0.0",
         "0.0",
         "0.0",
         "0.0",
         "0.0",
         "0.0",
         "0.0",
         "0.0",
         "0.0",
         "0.0",
         "0.0",
         "0.0",
         "0.0",
         "0.0",
         "0.0",
         "0.0",
         "0.0",
         "0.0",
         "0.0",
         "0.0",
         "0.0",
         "0.0",
         "0.0",
         "0.0",
         "0.0",
         "0.0",
         "0.0",
         "0.0",
         "0.0",
         "0.0",
         "0.0",
         "0.0",
         "0.0",
         "0.0",
         "0.0",
         "0.0",
         "0.0",
         "0.0",
         "0.0",
         "0.0",
         "0.0",
         "0.0",
         "0.0",
         "0.0",
         "0.0",
         "0.0",
         "0.0",
         "0.0",
         "0.0",
         "0.0",
         "0.0",
         "0.0",
         "0.0",
         "0.0",
         "0.0",
         "0.0",
         "0.0",
         "0.0",
         "0.0",
         "0.0",
         "0.0",
         "0.0",
         "0.0",
         "0.0",
         "0.0",
         "0.0",
         "0.0",
         "0.0",
         "0.0",
         "0.0",
         "0.0",
         "0.0",
         "Normal"
        ],
        [
         "3",
         "0.9254143834114074",
         "0.6657458543777466",
         "0.541436493396759",
         "0.2762430906295776",
         "0.1961326003074645",
         "0.0773480683565139",
         "0.071823202073574",
         "0.0607734806835651",
         "0.0662983432412147",
         "0.0580110512673854",
         "0.0635359138250351",
         "0.0828729271888732",
         "0.0856353566050529",
         "0.0939226523041725",
         "0.1132596656680107",
         "0.1243093907833099",
         "0.140883982181549",
         "0.1325966864824295",
         "0.140883982181549",
         "0.0911602228879928",
         "0.0856353566050529",
         "0.0745856389403343",
         "0.071823202073574",
         "0.0801104977726936",
         "0.0966850817203521",
         "0.1187845319509506",
         "0.1381215453147888",
         "0.140883982181549",
         "0.1381215453147888",
         "0.1464088410139084",
         "0.110497236251831",
         "0.102209948003292",
         "0.0607734806835651",
         "0.0276243090629577",
         "0.0386740341782569",
         "0.0138121545314788",
         "0.0110497241839766",
         "0.0138121545314788",
         "0.0331491716206073",
         "0.0055248620919883",
         "0.0",
         "0.0055248620919883",
         "0.0220994483679533",
         "0.0662983432412147",
         "0.0801104977726936",
         "0.0580110512673854",
         "0.0607734806835651",
         "0.0580110512673854",
         "0.0994475111365318",
         "0.1243093907833099",
         "0.1740331500768661",
         "0.1961326003074645",
         "0.2292817682027816",
         "0.2403314858675003",
         "0.265193372964859",
         "0.2375690639019012",
         "0.218232050538063",
         "0.1988950222730636",
         "0.1988950222730636",
         "0.1988950222730636",
         "0.1712707132101058",
         "0.1629834324121475",
         "0.1850828677415848",
         "0.1961326003074645",
         "0.1712707132101058",
         "0.140883982181549",
         "0.0856353566050529",
         "0.0",
         "0.0055248620919883",
         "0.0027624310459941",
         "0.035911601036787",
         "0.0497237555682659",
         "0.0635359138250351",
         "0.110497236251831",
         "0.1215469613671302",
         "0.1381215453147888",
         "0.140883982181549",
         "0.1685082912445068",
         "0.3895027637481689",
         "0.7651933431625366",
         "1.0",
         "0.8535911440849304",
         "0.6685082912445068",
         "0.4585635364055633",
         "0.3204419910907745",
         "0.1933701634407043",
         "0.1215469613671302",
         "0.0801104977726936",
         "0.0828729271888732",
         "0.071823202073574",
         "0.0580110512673854",
         "0.0662983432412147",
         "0.0883977934718132",
         "0.0966850817203521",
         "0.0994475111365318",
         "0.110497236251831",
         "0.0",
         "0.0",
         "0.0",
         "0.0",
         "0.0",
         "0.0",
         "0.0",
         "0.0",
         "0.0",
         "0.0",
         "0.0",
         "0.0",
         "0.0",
         "0.0",
         "0.0",
         "0.0",
         "0.0",
         "0.0",
         "0.0",
         "0.0",
         "0.0",
         "0.0",
         "0.0",
         "0.0",
         "0.0",
         "0.0",
         "0.0",
         "0.0",
         "0.0",
         "0.0",
         "0.0",
         "0.0",
         "0.0",
         "0.0",
         "0.0",
         "0.0",
         "0.0",
         "0.0",
         "0.0",
         "0.0",
         "0.0",
         "0.0",
         "0.0",
         "0.0",
         "0.0",
         "0.0",
         "0.0",
         "0.0",
         "0.0",
         "0.0",
         "0.0",
         "0.0",
         "0.0",
         "0.0",
         "0.0",
         "0.0",
         "0.0",
         "0.0",
         "0.0",
         "0.0",
         "0.0",
         "0.0",
         "0.0",
         "0.0",
         "0.0",
         "0.0",
         "0.0",
         "0.0",
         "0.0",
         "0.0",
         "0.0",
         "0.0",
         "0.0",
         "0.0",
         "0.0",
         "0.0",
         "0.0",
         "0.0",
         "0.0",
         "0.0",
         "0.0",
         "0.0",
         "0.0",
         "0.0",
         "0.0",
         "0.0",
         "0.0",
         "0.0",
         "0.0",
         "0.0",
         "0.0",
         "0.0",
         "Normal"
        ],
        [
         "4",
         "0.9671361446380616",
         "1.0",
         "0.8309859037399293",
         "0.5868544578552246",
         "0.3568075001239776",
         "0.2488262951374053",
         "0.1455399096012115",
         "0.0892018750309944",
         "0.1173708885908126",
         "0.1502347439527511",
         "0.1314553916454315",
         "0.1220657303929328",
         "0.1408450752496719",
         "0.1596244126558303",
         "0.1502347439527511",
         "0.1455399096012115",
         "0.1361502408981323",
         "0.1690140813589096",
         "0.1784037500619888",
         "0.1737089157104492",
         "0.1830985844135284",
         "0.201877936720848",
         "0.1877934336662292",
         "0.16431924700737",
         "0.1877934336662292",
         "0.2159624397754669",
         "0.2159624397754669",
         "0.201877936720848",
         "0.2112676054239272",
         "0.2300469428300857",
         "0.2159624397754669",
         "0.2300469428300857",
         "0.2394366264343261",
         "0.2676056325435638",
         "0.2535211145877838",
         "0.2300469428300857",
         "0.2206572741270065",
         "0.2253521084785461",
         "0.2112676054239272",
         "0.1737089157104492",
         "0.1502347439527511",
         "0.1408450752496719",
         "0.1079812198877334",
         "0.0751173719763755",
         "0.0610328651964664",
         "0.0704225376248359",
         "0.0610328651964664",
         "0.0516431927680969",
         "0.0328638479113578",
         "0.0704225376248359",
         "0.0422535203397274",
         "0.0187793429940938",
         "0.0328638479113578",
         "0.0328638479113578",
         "0.0328638479113578",
         "0.0281690135598182",
         "0.0187793429940938",
         "0.0187793429940938",
         "0.0234741792082786",
         "0.0",
         "0.0093896714970469",
         "0.0140845067799091",
         "0.0281690135598182",
         "0.0",
         "0.0",
         "0.0422535203397274",
         "0.0234741792082786",
         "0.0093896714970469",
         "0.0234741792082786",
         "0.0281690135598182",
         "0.0375586859881877",
         "0.0187793429940938",
         "0.0140845067799091",
         "0.0375586859881877",
         "0.0422535203397274",
         "0.0234741792082786",
         "0.0140845067799091",
         "0.0375586859881877",
         "0.0422535203397274",
         "0.0140845067799091",
         "0.0375586859881877",
         "0.0516431927680969",
         "0.0469483584165573",
         "0.0375586859881877",
         "0.0375586859881877",
         "0.0563380271196365",
         "0.0563380271196365",
         "0.0328638479113578",
         "0.0328638479113578",
         "0.0657276958227157",
         "0.0563380271196365",
         "0.0281690135598182",
         "0.0469483584165573",
         "0.0563380271196365",
         "0.0657276958227157",
         "0.0422535203397274",
         "0.0610328651964664",
         "0.1173708885908126",
         "0.1220657303929328",
         "0.0985915511846542",
         "0.0985915511846542",
         "0.112676054239273",
         "0.1079812198877334",
         "0.0938967168331146",
         "0.1032863855361938",
         "0.1079812198877334",
         "0.0751173719763755",
         "0.0422535203397274",
         "0.0469483584165573",
         "0.0657276958227157",
         "0.0704225376248359",
         "0.0657276958227157",
         "0.1032863855361938",
         "0.2347417771816253",
         "0.4976525902748108",
         "0.7464788556098939",
         "0.8826290965080261",
         "0.9530516266822816",
         "0.9061033129692077",
         "0.6807511448860168",
         "0.4319248795509338",
         "0.2488262951374053",
         "0.1455399096012115",
         "0.0610328651964664",
         "0.0657276958227157",
         "0.1032863855361938",
         "0.1032863855361938",
         "0.0845070406794548",
         "0.0938967168331146",
         "0.1173708885908126",
         "0.1220657303929328",
         "0.1079812198877334",
         "0.112676054239273",
         "0.1455399096012115",
         "0.1549295783042907",
         "0.1173708885908126",
         "0.1408450752496719",
         "0.16431924700737",
         "0.1690140813589096",
         "0.16431924700737",
         "0.0",
         "0.0",
         "0.0",
         "0.0",
         "0.0",
         "0.0",
         "0.0",
         "0.0",
         "0.0",
         "0.0",
         "0.0",
         "0.0",
         "0.0",
         "0.0",
         "0.0",
         "0.0",
         "0.0",
         "0.0",
         "0.0",
         "0.0",
         "0.0",
         "0.0",
         "0.0",
         "0.0",
         "0.0",
         "0.0",
         "0.0",
         "0.0",
         "0.0",
         "0.0",
         "0.0",
         "0.0",
         "0.0",
         "0.0",
         "0.0",
         "0.0",
         "0.0",
         "0.0",
         "0.0",
         "0.0",
         "0.0",
         "0.0",
         "0.0",
         "0.0",
         "0.0",
         "0.0",
         "0.0",
         "0.0",
         "Normal"
        ]
       ],
       "shape": {
        "columns": 189,
        "rows": 5
       }
      },
      "text/html": [
       "<div>\n",
       "<style scoped>\n",
       "    .dataframe tbody tr th:only-of-type {\n",
       "        vertical-align: middle;\n",
       "    }\n",
       "\n",
       "    .dataframe tbody tr th {\n",
       "        vertical-align: top;\n",
       "    }\n",
       "\n",
       "    .dataframe thead th {\n",
       "        text-align: right;\n",
       "    }\n",
       "</style>\n",
       "<table border=\"1\" class=\"dataframe\">\n",
       "  <thead>\n",
       "    <tr style=\"text-align: right;\">\n",
       "      <th></th>\n",
       "      <th>0</th>\n",
       "      <th>1</th>\n",
       "      <th>2</th>\n",
       "      <th>3</th>\n",
       "      <th>4</th>\n",
       "      <th>5</th>\n",
       "      <th>6</th>\n",
       "      <th>7</th>\n",
       "      <th>8</th>\n",
       "      <th>9</th>\n",
       "      <th>...</th>\n",
       "      <th>179</th>\n",
       "      <th>180</th>\n",
       "      <th>181</th>\n",
       "      <th>182</th>\n",
       "      <th>183</th>\n",
       "      <th>184</th>\n",
       "      <th>185</th>\n",
       "      <th>186</th>\n",
       "      <th>class</th>\n",
       "      <th>label</th>\n",
       "    </tr>\n",
       "  </thead>\n",
       "  <tbody>\n",
       "    <tr>\n",
       "      <th>0</th>\n",
       "      <td>0.977941</td>\n",
       "      <td>0.926471</td>\n",
       "      <td>0.681373</td>\n",
       "      <td>0.245098</td>\n",
       "      <td>0.154412</td>\n",
       "      <td>0.191176</td>\n",
       "      <td>0.151961</td>\n",
       "      <td>0.085784</td>\n",
       "      <td>0.058824</td>\n",
       "      <td>0.049020</td>\n",
       "      <td>...</td>\n",
       "      <td>0.0</td>\n",
       "      <td>0.0</td>\n",
       "      <td>0.0</td>\n",
       "      <td>0.0</td>\n",
       "      <td>0.0</td>\n",
       "      <td>0.0</td>\n",
       "      <td>0.0</td>\n",
       "      <td>0.0</td>\n",
       "      <td>0.0</td>\n",
       "      <td>Normal</td>\n",
       "    </tr>\n",
       "    <tr>\n",
       "      <th>1</th>\n",
       "      <td>0.960114</td>\n",
       "      <td>0.863248</td>\n",
       "      <td>0.461538</td>\n",
       "      <td>0.196581</td>\n",
       "      <td>0.094017</td>\n",
       "      <td>0.125356</td>\n",
       "      <td>0.099715</td>\n",
       "      <td>0.088319</td>\n",
       "      <td>0.074074</td>\n",
       "      <td>0.082621</td>\n",
       "      <td>...</td>\n",
       "      <td>0.0</td>\n",
       "      <td>0.0</td>\n",
       "      <td>0.0</td>\n",
       "      <td>0.0</td>\n",
       "      <td>0.0</td>\n",
       "      <td>0.0</td>\n",
       "      <td>0.0</td>\n",
       "      <td>0.0</td>\n",
       "      <td>0.0</td>\n",
       "      <td>Normal</td>\n",
       "    </tr>\n",
       "    <tr>\n",
       "      <th>2</th>\n",
       "      <td>1.000000</td>\n",
       "      <td>0.659459</td>\n",
       "      <td>0.186486</td>\n",
       "      <td>0.070270</td>\n",
       "      <td>0.070270</td>\n",
       "      <td>0.059459</td>\n",
       "      <td>0.056757</td>\n",
       "      <td>0.043243</td>\n",
       "      <td>0.054054</td>\n",
       "      <td>0.045946</td>\n",
       "      <td>...</td>\n",
       "      <td>0.0</td>\n",
       "      <td>0.0</td>\n",
       "      <td>0.0</td>\n",
       "      <td>0.0</td>\n",
       "      <td>0.0</td>\n",
       "      <td>0.0</td>\n",
       "      <td>0.0</td>\n",
       "      <td>0.0</td>\n",
       "      <td>0.0</td>\n",
       "      <td>Normal</td>\n",
       "    </tr>\n",
       "    <tr>\n",
       "      <th>3</th>\n",
       "      <td>0.925414</td>\n",
       "      <td>0.665746</td>\n",
       "      <td>0.541436</td>\n",
       "      <td>0.276243</td>\n",
       "      <td>0.196133</td>\n",
       "      <td>0.077348</td>\n",
       "      <td>0.071823</td>\n",
       "      <td>0.060773</td>\n",
       "      <td>0.066298</td>\n",
       "      <td>0.058011</td>\n",
       "      <td>...</td>\n",
       "      <td>0.0</td>\n",
       "      <td>0.0</td>\n",
       "      <td>0.0</td>\n",
       "      <td>0.0</td>\n",
       "      <td>0.0</td>\n",
       "      <td>0.0</td>\n",
       "      <td>0.0</td>\n",
       "      <td>0.0</td>\n",
       "      <td>0.0</td>\n",
       "      <td>Normal</td>\n",
       "    </tr>\n",
       "    <tr>\n",
       "      <th>4</th>\n",
       "      <td>0.967136</td>\n",
       "      <td>1.000000</td>\n",
       "      <td>0.830986</td>\n",
       "      <td>0.586854</td>\n",
       "      <td>0.356808</td>\n",
       "      <td>0.248826</td>\n",
       "      <td>0.145540</td>\n",
       "      <td>0.089202</td>\n",
       "      <td>0.117371</td>\n",
       "      <td>0.150235</td>\n",
       "      <td>...</td>\n",
       "      <td>0.0</td>\n",
       "      <td>0.0</td>\n",
       "      <td>0.0</td>\n",
       "      <td>0.0</td>\n",
       "      <td>0.0</td>\n",
       "      <td>0.0</td>\n",
       "      <td>0.0</td>\n",
       "      <td>0.0</td>\n",
       "      <td>0.0</td>\n",
       "      <td>Normal</td>\n",
       "    </tr>\n",
       "  </tbody>\n",
       "</table>\n",
       "<p>5 rows × 189 columns</p>\n",
       "</div>"
      ],
      "text/plain": [
       "          0         1         2         3         4         5         6  \\\n",
       "0  0.977941  0.926471  0.681373  0.245098  0.154412  0.191176  0.151961   \n",
       "1  0.960114  0.863248  0.461538  0.196581  0.094017  0.125356  0.099715   \n",
       "2  1.000000  0.659459  0.186486  0.070270  0.070270  0.059459  0.056757   \n",
       "3  0.925414  0.665746  0.541436  0.276243  0.196133  0.077348  0.071823   \n",
       "4  0.967136  1.000000  0.830986  0.586854  0.356808  0.248826  0.145540   \n",
       "\n",
       "          7         8         9  ...  179  180  181  182  183  184  185  186  \\\n",
       "0  0.085784  0.058824  0.049020  ...  0.0  0.0  0.0  0.0  0.0  0.0  0.0  0.0   \n",
       "1  0.088319  0.074074  0.082621  ...  0.0  0.0  0.0  0.0  0.0  0.0  0.0  0.0   \n",
       "2  0.043243  0.054054  0.045946  ...  0.0  0.0  0.0  0.0  0.0  0.0  0.0  0.0   \n",
       "3  0.060773  0.066298  0.058011  ...  0.0  0.0  0.0  0.0  0.0  0.0  0.0  0.0   \n",
       "4  0.089202  0.117371  0.150235  ...  0.0  0.0  0.0  0.0  0.0  0.0  0.0  0.0   \n",
       "\n",
       "   class   label  \n",
       "0    0.0  Normal  \n",
       "1    0.0  Normal  \n",
       "2    0.0  Normal  \n",
       "3    0.0  Normal  \n",
       "4    0.0  Normal  \n",
       "\n",
       "[5 rows x 189 columns]"
      ]
     },
     "execution_count": 11,
     "metadata": {},
     "output_type": "execute_result"
    }
   ],
   "source": [
    "df = pd.read_csv(\"./data.csv\")\n",
    "df.head()"
   ]
  },
  {
   "cell_type": "code",
   "execution_count": 12,
   "metadata": {
    "id": "29vCaKCNo2tO",
    "outputId": "cf113e7d-5083-43ef-a2dc-aee7fe734ed0",
    "trusted": true
   },
   "outputs": [
    {
     "data": {
      "application/vnd.microsoft.datawrangler.viewer.v0+json": {
       "columns": [
        {
         "name": "label",
         "rawType": "object",
         "type": "string"
        },
        {
         "name": "count",
         "rawType": "int64",
         "type": "integer"
        }
       ],
       "ref": "f09ada01-eddd-4105-a486-fb703dd37e0d",
       "rows": [
        [
         "Normal",
         "90589"
        ],
        [
         "Fusion of paced and normal",
         "8039"
        ],
        [
         "Premature ventricular contraction",
         "7236"
        ],
        [
         "Artial Premature",
         "2779"
        ],
        [
         "Fusion of ventricular and normal",
         "803"
        ]
       ],
       "shape": {
        "columns": 1,
        "rows": 5
       }
      },
      "text/plain": [
       "label\n",
       "Normal                               90589\n",
       "Fusion of paced and normal            8039\n",
       "Premature ventricular contraction     7236\n",
       "Artial Premature                      2779\n",
       "Fusion of ventricular and normal       803\n",
       "Name: count, dtype: int64"
      ]
     },
     "execution_count": 12,
     "metadata": {},
     "output_type": "execute_result"
    }
   ],
   "source": [
    "df['label'].value_counts()"
   ]
  },
  {
   "cell_type": "code",
   "execution_count": 13,
   "metadata": {
    "_kg_hide-input": true,
    "id": "CvgGtV3Jo2tP",
    "outputId": "848f29bc-e513-405c-eb26-ed0045d68bf3",
    "trusted": true
   },
   "outputs": [
    {
     "name": "stderr",
     "output_type": "stream",
     "text": [
      "/tmp/ipykernel_14311/3480477453.py:4: FutureWarning: \n",
      "\n",
      "Passing `palette` without assigning `hue` is deprecated and will be removed in v0.14.0. Assign the `x` variable to `hue` and set `legend=False` for the same effect.\n",
      "\n",
      "  sns.countplot(\n",
      "/tmp/ipykernel_14311/3480477453.py:10: UserWarning: set_ticklabels() should only be used with a fixed number of ticks, i.e. after set_ticks() or using a FixedLocator.\n",
      "  ax.set_xticklabels(ax.get_xticklabels(), rotation=15);\n"
     ]
    },
    {
     "data": {
      "image/png": "[encoded data removed]",
      "text/plain": [
       "<Figure size 1200x600 with 1 Axes>"
      ]
     },
     "metadata": {},
     "output_type": "display_data"
    }
   ],
   "source": [
    "percentages = [count / df.shape[0] * 100 for count in df['label'].value_counts()]\n",
    "\n",
    "fig, ax = plt.subplots(figsize=(12, 6))\n",
    "sns.countplot(\n",
    "    x=df['label'],\n",
    "    ax=ax,\n",
    "    palette=\"bright\",\n",
    "    order=df['label'].value_counts().index\n",
    ")\n",
    "ax.set_xticklabels(ax.get_xticklabels(), rotation=15);\n",
    "\n",
    "for percentage, count, p in zip(\n",
    "    percentages,\n",
    "    df['label'].value_counts(sort=True).values,\n",
    "    ax.patches):\n",
    "    \n",
    "    percentage = f'{np.round(percentage, 2)}%'\n",
    "    x = p.get_x() + p.get_width() / 2 - 0.4\n",
    "    y = p.get_y() + p.get_height()\n",
    "    ax.annotate(str(percentage)+\" / \"+str(count), (x, y), fontsize=12, fontweight='bold')\n",
    "    \n",
    "plt.savefig('data_dist.png', facecolor='w', edgecolor='w', format='png',\n",
    "        transparent=False, bbox_inches='tight', pad_inches=0.1)\n",
    "plt.savefig('data_dist.svg', facecolor='w', edgecolor='w', format='svg',\n",
    "        transparent=False, bbox_inches='tight', pad_inches=0.1)"
   ]
  },
  {
   "cell_type": "markdown",
   "metadata": {
    "id": "GsHjXM9po2tQ"
   },
   "source": [
    "# Dataset"
   ]
  },
  {
   "cell_type": "code",
   "execution_count": 14,
   "metadata": {
    "id": "-36cguDho2tQ",
    "trusted": true
   },
   "outputs": [
    {
     "name": "stdout",
     "output_type": "stream",
     "text": [
      "29\n"
     ]
    },
    {
     "name": "stderr",
     "output_type": "stream",
     "text": [
      "/tmp/ipykernel_14311/3944258185.py:9: UserWarning: Creating a tensor from a list of numpy.ndarrays is extremely slow. Please consider converting the list to a single numpy.ndarray with numpy.array() before converting to a tensor. (Triggered internally at /pytorch/torch/csrc/utils/tensor_new.cpp:253.)\n",
      "  signal = torch.FloatTensor([signal.values])\n"
     ]
    },
    {
     "data": {
      "text/plain": [
       "(torch.Size([96, 1, 187]), torch.Size([96]))"
      ]
     },
     "execution_count": 14,
     "metadata": {},
     "output_type": "execute_result"
    }
   ],
   "source": [
    "class ECGDataset(Dataset):\n",
    "\n",
    "    def __init__(self, df):\n",
    "        self.df = df\n",
    "        self.data_columns = self.df.columns[:-2].tolist()\n",
    "\n",
    "    def __getitem__(self, idx):\n",
    "        signal = self.df.loc[idx, self.data_columns].astype('float32')\n",
    "        signal = torch.FloatTensor([signal.values])                 \n",
    "        target = torch.LongTensor(np.array(self.df.loc[idx, 'class']))\n",
    "        return signal, target\n",
    "\n",
    "    def __len__(self):\n",
    "        return len(self.df)\n",
    "\n",
    "def get_dataloader(label_name, batch_size):\n",
    "    df = pd.read_csv(config.csv_path)\n",
    "    df = df.loc[df['label'] == label_name]\n",
    "    df.reset_index(drop=True, inplace=True)\n",
    "    dataset = ECGDataset(df)\n",
    "    dataloader = DataLoader(dataset=dataset, batch_size=batch_size, num_workers=0)\n",
    "    return dataloader\n",
    "    \n",
    "    \n",
    "dataloader = get_dataloader(label_name='Artial Premature', batch_size=96)\n",
    "\n",
    "print(len(dataloader))\n",
    "x,y = next(iter(dataloader))\n",
    "x.shape, y.shape"
   ]
  },
  {
   "cell_type": "markdown",
   "metadata": {},
   "source": [
    "# Models"
   ]
  },
  {
   "cell_type": "code",
   "execution_count": 15,
   "metadata": {
    "id": "0nhtdB6Vo2tQ",
    "trusted": true
   },
   "outputs": [],
   "source": [
    "import torch.nn as nn\n",
    "import torch.nn.functional as F\n",
    "\n",
    "\n",
    "class Generator(nn.Module):\n",
    "    def __init__(self):\n",
    "        super(Generator, self).__init__()\n",
    "        self.fc1 = nn.Linear(256, 256)\n",
    "        self.fc2 = nn.Linear(256, 256)\n",
    "        self.fc3 = nn.Linear(256, 187)\n",
    "        self.rnn_layer = nn.LSTM(\n",
    "                input_size=187,\n",
    "                hidden_size=128,\n",
    "                num_layers=1,\n",
    "                bidirectional=True,\n",
    "                batch_first=True,\n",
    "            )\n",
    "    def forward(self, x):\n",
    "        x,_ = self.rnn_layer(x)\n",
    "        x = x.view(-1,256)\n",
    "        x = F.leaky_relu(self.fc1(x))\n",
    "        x = F.leaky_relu(self.fc2(x))\n",
    "        x = F.dropout(x, p=0.2)\n",
    "        x = self.fc3(x)\n",
    "        return x.unsqueeze(1)\n",
    "\n",
    "\n",
    "class Discriminator(nn.Module):\n",
    "    def __init__(self):\n",
    "        super(Discriminator, self).__init__()\n",
    "        \n",
    "        self.rnn_layer = nn.LSTM(\n",
    "                input_size=187,\n",
    "                hidden_size=256,\n",
    "                num_layers=1,\n",
    "                bidirectional=True,\n",
    "                batch_first=True,\n",
    "            )\n",
    "        self.fc1 = nn.Linear(512, 512)\n",
    "        self.fc2 = nn.Linear(512, 256) \n",
    "        self.fc3 = nn.Linear(256, 1)\n",
    "\n",
    "    def forward(self, x):\n",
    "        x,_ = self.rnn_layer(x)\n",
    "        x = x.view(-1, 512)\n",
    "        x = F.leaky_relu(self.fc1(x))\n",
    "        x = F.leaky_relu(self.fc2(x))\n",
    "        x = F.dropout(x, p=0.2)\n",
    "        x = torch.sigmoid(self.fc3(x))\n",
    "        return x"
   ]
  },
  {
   "cell_type": "markdown",
   "metadata": {},
   "source": [
    "# Training stage"
   ]
  },
  {
   "cell_type": "code",
   "execution_count": 16,
   "metadata": {
    "id": "NUd86RQBo2tS",
    "trusted": true
   },
   "outputs": [],
   "source": [
    "class Trainer:\n",
    "    def __init__(\n",
    "        self,\n",
    "        generator,\n",
    "        discriminator,\n",
    "        batch_size,\n",
    "        num_epochs,\n",
    "        label\n",
    "    ):\n",
    "        self.device = 'cuda:0' if torch.cuda.is_available() else 'cpu'\n",
    "        self.netG = generator.to(self.device)\n",
    "        self.netD = discriminator.to(self.device)\n",
    "        \n",
    "        self.optimizerD = Adam(self.netD.parameters(), lr=0.0002)\n",
    "        self.optimizerG = Adam(self.netG.parameters(), lr=0.0002)\n",
    "        self.criterion = nn.BCELoss()\n",
    "        \n",
    "        self.batch_size = batch_size\n",
    "        self.signal_dim = [self.batch_size, 1, 187]\n",
    "        self.num_epochs = num_epochs\n",
    "        self.dataloader = get_dataloader(\n",
    "            label_name=label, batch_size=self.batch_size\n",
    "        )\n",
    "        self.fixed_noise = torch.randn(self.batch_size, 1, 187,\n",
    "                                       device=self.device)\n",
    "        self.g_errors = []\n",
    "        self.d_errors = []\n",
    "        \n",
    "    def _one_epoch(self):\n",
    "        real_label = 1\n",
    "        fake_label = 0\n",
    "        \n",
    "        for i, data in enumerate(self.dataloader, 0):\n",
    "            ##### Update Discriminator: maximize log(D(x)) + log(1 - D(G(z))) #####\n",
    "            ## train with real data\n",
    "            self.netD.zero_grad()\n",
    "            real_data = data[0].to(self.device)\n",
    "            # dim for noise\n",
    "            batch_size = real_data.size(0)\n",
    "            self.signal_dim[0] = batch_size\n",
    "            \n",
    "            label = torch.full((batch_size,), real_label,\n",
    "                           dtype=real_data.dtype, device=self.device)\n",
    "            \n",
    "            output = self.netD(real_data)\n",
    "            output = output.view(-1)\n",
    "       \n",
    "            errD_real = self.criterion(output, label)\n",
    "            errD_real.backward()\n",
    "            D_x = output.mean().item()\n",
    "            \n",
    "            ## train with fake data\n",
    "            noise = torch.randn(self.signal_dim, device=self.device)\n",
    "            fake = self.netG(noise)\n",
    "            label.fill_(fake_label)\n",
    "            \n",
    "            output = self.netD(fake.detach())\n",
    "            output = output.view(-1)\n",
    "            \n",
    "            errD_fake = self.criterion(output, label)\n",
    "            errD_fake.backward()\n",
    "            D_G_z1 = output.mean().item()\n",
    "            errD = errD_real + errD_fake \n",
    "            self.optimizerD.step()\n",
    "            \n",
    "            ##### Update Generator: maximaze log(D(G(z)))  \n",
    "            self.netG.zero_grad()\n",
    "            label.fill_(real_label) \n",
    "            output = self.netD(fake)\n",
    "            output = output.view(-1)\n",
    "            \n",
    "            errG = self.criterion(output, label)\n",
    "            errG.backward()\n",
    "            D_G_z2 = output.mean().item()\n",
    "            self.optimizerG.step()\n",
    "            \n",
    "        return errD.item(), errG.item()\n",
    "        \n",
    "    def run(self):\n",
    "        for epoch in range(self.num_epochs):\n",
    "            errD_, errG_ = self._one_epoch()\n",
    "            self.d_errors.append(errD_)\n",
    "            self.g_errors.append(errG_)\n",
    "            if epoch % 300 == 0:\n",
    "                print(f\"Epoch: {epoch} | Loss_D: {errD_} | Loss_G: {errG_} | Time: {time.strftime('%H:%M:%S')}\")\n",
    "   \n",
    "                fake = self.netG(self.fixed_noise)\n",
    "                plt.plot(fake.detach().cpu().squeeze(1).numpy()[:].transpose())\n",
    "                plt.show()\n",
    "            \n",
    "        torch.save(self.netG.state_dict(), f\"generator.pth\")\n",
    "        torch.save(self.netG.state_dict(), f\"discriminator.pth\")"
   ]
  },
  {
   "cell_type": "code",
   "execution_count": 17,
   "metadata": {
    "trusted": true
   },
   "outputs": [],
   "source": [
    "g = Generator()\n",
    "d = Discriminator()"
   ]
  },
  {
   "cell_type": "code",
   "execution_count": 18,
   "metadata": {
    "id": "vbsXrltbo2tT",
    "trusted": true
   },
   "outputs": [
    {
     "name": "stdout",
     "output_type": "stream",
     "text": [
      "Epoch: 0 | Loss_D: 1.351273775100708 | Loss_G: 0.7130661606788635 | Time: 15:42:03\n"
     ]
    },
    {
     "data": {
      "image/png": "[encoded data removed]",
      "text/plain": [
       "<Figure size 640x480 with 1 Axes>"
      ]
     },
     "metadata": {},
     "output_type": "display_data"
    },
    {
     "ename": "KeyboardInterrupt",
     "evalue": "",
     "output_type": "error",
     "traceback": [
      "\u001b[31m---------------------------------------------------------------------------\u001b[39m",
      "\u001b[31mKeyboardInterrupt\u001b[39m                         Traceback (most recent call last)",
      "\u001b[36mCell\u001b[39m\u001b[36m \u001b[39m\u001b[32mIn[18]\u001b[39m\u001b[32m, line 8\u001b[39m\n\u001b[32m      1\u001b[39m trainer = Trainer(\n\u001b[32m      2\u001b[39m     generator=g,\n\u001b[32m      3\u001b[39m     discriminator=d,\n\u001b[32m   (...)\u001b[39m\u001b[32m      6\u001b[39m     label=\u001b[33m'\u001b[39m\u001b[33mFusion of ventricular and normal\u001b[39m\u001b[33m'\u001b[39m\n\u001b[32m      7\u001b[39m )\n\u001b[32m----> \u001b[39m\u001b[32m8\u001b[39m \u001b[43mtrainer\u001b[49m\u001b[43m.\u001b[49m\u001b[43mrun\u001b[49m\u001b[43m(\u001b[49m\u001b[43m)\u001b[49m\n",
      "\u001b[36mCell\u001b[39m\u001b[36m \u001b[39m\u001b[32mIn[16]\u001b[39m\u001b[32m, line 81\u001b[39m, in \u001b[36mTrainer.run\u001b[39m\u001b[34m(self)\u001b[39m\n\u001b[32m     79\u001b[39m \u001b[38;5;28;01mdef\u001b[39;00m\u001b[38;5;250m \u001b[39m\u001b[34mrun\u001b[39m(\u001b[38;5;28mself\u001b[39m):\n\u001b[32m     80\u001b[39m     \u001b[38;5;28;01mfor\u001b[39;00m epoch \u001b[38;5;129;01min\u001b[39;00m \u001b[38;5;28mrange\u001b[39m(\u001b[38;5;28mself\u001b[39m.num_epochs):\n\u001b[32m---> \u001b[39m\u001b[32m81\u001b[39m         errD_, errG_ = \u001b[38;5;28;43mself\u001b[39;49m\u001b[43m.\u001b[49m\u001b[43m_one_epoch\u001b[49m\u001b[43m(\u001b[49m\u001b[43m)\u001b[49m\n\u001b[32m     82\u001b[39m         \u001b[38;5;28mself\u001b[39m.d_errors.append(errD_)\n\u001b[32m     83\u001b[39m         \u001b[38;5;28mself\u001b[39m.g_errors.append(errG_)\n",
      "\u001b[36mCell\u001b[39m\u001b[36m \u001b[39m\u001b[32mIn[16]\u001b[39m\u001b[32m, line 54\u001b[39m, in \u001b[36mTrainer._one_epoch\u001b[39m\u001b[34m(self)\u001b[39m\n\u001b[32m     52\u001b[39m \u001b[38;5;66;03m## train with fake data\u001b[39;00m\n\u001b[32m     53\u001b[39m noise = torch.randn(\u001b[38;5;28mself\u001b[39m.signal_dim, device=\u001b[38;5;28mself\u001b[39m.device)\n\u001b[32m---> \u001b[39m\u001b[32m54\u001b[39m fake = \u001b[38;5;28;43mself\u001b[39;49m\u001b[43m.\u001b[49m\u001b[43mnetG\u001b[49m\u001b[43m(\u001b[49m\u001b[43mnoise\u001b[49m\u001b[43m)\u001b[49m\n\u001b[32m     55\u001b[39m label.fill_(fake_label)\n\u001b[32m     57\u001b[39m output = \u001b[38;5;28mself\u001b[39m.netD(fake.detach())\n",
      "\u001b[36mFile \u001b[39m\u001b[32m~/miniconda3/envs/torch-env/lib/python3.12/site-packages/torch/nn/modules/module.py:1775\u001b[39m, in \u001b[36mModule._wrapped_call_impl\u001b[39m\u001b[34m(self, *args, **kwargs)\u001b[39m\n\u001b[32m   1773\u001b[39m     \u001b[38;5;28;01mreturn\u001b[39;00m \u001b[38;5;28mself\u001b[39m._compiled_call_impl(*args, **kwargs)  \u001b[38;5;66;03m# type: ignore[misc]\u001b[39;00m\n\u001b[32m   1774\u001b[39m \u001b[38;5;28;01melse\u001b[39;00m:\n\u001b[32m-> \u001b[39m\u001b[32m1775\u001b[39m     \u001b[38;5;28;01mreturn\u001b[39;00m \u001b[38;5;28;43mself\u001b[39;49m\u001b[43m.\u001b[49m\u001b[43m_call_impl\u001b[49m\u001b[43m(\u001b[49m\u001b[43m*\u001b[49m\u001b[43margs\u001b[49m\u001b[43m,\u001b[49m\u001b[43m \u001b[49m\u001b[43m*\u001b[49m\u001b[43m*\u001b[49m\u001b[43mkwargs\u001b[49m\u001b[43m)\u001b[49m\n",
      "\u001b[36mFile \u001b[39m\u001b[32m~/miniconda3/envs/torch-env/lib/python3.12/site-packages/torch/nn/modules/module.py:1786\u001b[39m, in \u001b[36mModule._call_impl\u001b[39m\u001b[34m(self, *args, **kwargs)\u001b[39m\n\u001b[32m   1781\u001b[39m \u001b[38;5;66;03m# If we don't have any hooks, we want to skip the rest of the logic in\u001b[39;00m\n\u001b[32m   1782\u001b[39m \u001b[38;5;66;03m# this function, and just call forward.\u001b[39;00m\n\u001b[32m   1783\u001b[39m \u001b[38;5;28;01mif\u001b[39;00m \u001b[38;5;129;01mnot\u001b[39;00m (\u001b[38;5;28mself\u001b[39m._backward_hooks \u001b[38;5;129;01mor\u001b[39;00m \u001b[38;5;28mself\u001b[39m._backward_pre_hooks \u001b[38;5;129;01mor\u001b[39;00m \u001b[38;5;28mself\u001b[39m._forward_hooks \u001b[38;5;129;01mor\u001b[39;00m \u001b[38;5;28mself\u001b[39m._forward_pre_hooks\n\u001b[32m   1784\u001b[39m         \u001b[38;5;129;01mor\u001b[39;00m _global_backward_pre_hooks \u001b[38;5;129;01mor\u001b[39;00m _global_backward_hooks\n\u001b[32m   1785\u001b[39m         \u001b[38;5;129;01mor\u001b[39;00m _global_forward_hooks \u001b[38;5;129;01mor\u001b[39;00m _global_forward_pre_hooks):\n\u001b[32m-> \u001b[39m\u001b[32m1786\u001b[39m     \u001b[38;5;28;01mreturn\u001b[39;00m \u001b[43mforward_call\u001b[49m\u001b[43m(\u001b[49m\u001b[43m*\u001b[49m\u001b[43margs\u001b[49m\u001b[43m,\u001b[49m\u001b[43m \u001b[49m\u001b[43m*\u001b[49m\u001b[43m*\u001b[49m\u001b[43mkwargs\u001b[49m\u001b[43m)\u001b[49m\n\u001b[32m   1788\u001b[39m result = \u001b[38;5;28;01mNone\u001b[39;00m\n\u001b[32m   1789\u001b[39m called_always_called_hooks = \u001b[38;5;28mset\u001b[39m()\n",
      "\u001b[36mCell\u001b[39m\u001b[36m \u001b[39m\u001b[32mIn[15]\u001b[39m\u001b[32m, line 19\u001b[39m, in \u001b[36mGenerator.forward\u001b[39m\u001b[34m(self, x)\u001b[39m\n\u001b[32m     18\u001b[39m \u001b[38;5;28;01mdef\u001b[39;00m\u001b[38;5;250m \u001b[39m\u001b[34mforward\u001b[39m(\u001b[38;5;28mself\u001b[39m, x):\n\u001b[32m---> \u001b[39m\u001b[32m19\u001b[39m     x,_ = \u001b[38;5;28;43mself\u001b[39;49m\u001b[43m.\u001b[49m\u001b[43mrnn_layer\u001b[49m\u001b[43m(\u001b[49m\u001b[43mx\u001b[49m\u001b[43m)\u001b[49m\n\u001b[32m     20\u001b[39m     x = x.view(-\u001b[32m1\u001b[39m,\u001b[32m256\u001b[39m)\n\u001b[32m     21\u001b[39m     x = F.leaky_relu(\u001b[38;5;28mself\u001b[39m.fc1(x))\n",
      "\u001b[36mFile \u001b[39m\u001b[32m~/miniconda3/envs/torch-env/lib/python3.12/site-packages/torch/nn/modules/module.py:1775\u001b[39m, in \u001b[36mModule._wrapped_call_impl\u001b[39m\u001b[34m(self, *args, **kwargs)\u001b[39m\n\u001b[32m   1773\u001b[39m     \u001b[38;5;28;01mreturn\u001b[39;00m \u001b[38;5;28mself\u001b[39m._compiled_call_impl(*args, **kwargs)  \u001b[38;5;66;03m# type: ignore[misc]\u001b[39;00m\n\u001b[32m   1774\u001b[39m \u001b[38;5;28;01melse\u001b[39;00m:\n\u001b[32m-> \u001b[39m\u001b[32m1775\u001b[39m     \u001b[38;5;28;01mreturn\u001b[39;00m \u001b[38;5;28;43mself\u001b[39;49m\u001b[43m.\u001b[49m\u001b[43m_call_impl\u001b[49m\u001b[43m(\u001b[49m\u001b[43m*\u001b[49m\u001b[43margs\u001b[49m\u001b[43m,\u001b[49m\u001b[43m \u001b[49m\u001b[43m*\u001b[49m\u001b[43m*\u001b[49m\u001b[43mkwargs\u001b[49m\u001b[43m)\u001b[49m\n",
      "\u001b[36mFile \u001b[39m\u001b[32m~/miniconda3/envs/torch-env/lib/python3.12/site-packages/torch/nn/modules/module.py:1786\u001b[39m, in \u001b[36mModule._call_impl\u001b[39m\u001b[34m(self, *args, **kwargs)\u001b[39m\n\u001b[32m   1781\u001b[39m \u001b[38;5;66;03m# If we don't have any hooks, we want to skip the rest of the logic in\u001b[39;00m\n\u001b[32m   1782\u001b[39m \u001b[38;5;66;03m# this function, and just call forward.\u001b[39;00m\n\u001b[32m   1783\u001b[39m \u001b[38;5;28;01mif\u001b[39;00m \u001b[38;5;129;01mnot\u001b[39;00m (\u001b[38;5;28mself\u001b[39m._backward_hooks \u001b[38;5;129;01mor\u001b[39;00m \u001b[38;5;28mself\u001b[39m._backward_pre_hooks \u001b[38;5;129;01mor\u001b[39;00m \u001b[38;5;28mself\u001b[39m._forward_hooks \u001b[38;5;129;01mor\u001b[39;00m \u001b[38;5;28mself\u001b[39m._forward_pre_hooks\n\u001b[32m   1784\u001b[39m         \u001b[38;5;129;01mor\u001b[39;00m _global_backward_pre_hooks \u001b[38;5;129;01mor\u001b[39;00m _global_backward_hooks\n\u001b[32m   1785\u001b[39m         \u001b[38;5;129;01mor\u001b[39;00m _global_forward_hooks \u001b[38;5;129;01mor\u001b[39;00m _global_forward_pre_hooks):\n\u001b[32m-> \u001b[39m\u001b[32m1786\u001b[39m     \u001b[38;5;28;01mreturn\u001b[39;00m \u001b[43mforward_call\u001b[49m\u001b[43m(\u001b[49m\u001b[43m*\u001b[49m\u001b[43margs\u001b[49m\u001b[43m,\u001b[49m\u001b[43m \u001b[49m\u001b[43m*\u001b[49m\u001b[43m*\u001b[49m\u001b[43mkwargs\u001b[49m\u001b[43m)\u001b[49m\n\u001b[32m   1788\u001b[39m result = \u001b[38;5;28;01mNone\u001b[39;00m\n\u001b[32m   1789\u001b[39m called_always_called_hooks = \u001b[38;5;28mset\u001b[39m()\n",
      "\u001b[36mFile \u001b[39m\u001b[32m~/miniconda3/envs/torch-env/lib/python3.12/site-packages/torch/nn/modules/rnn.py:1127\u001b[39m, in \u001b[36mLSTM.forward\u001b[39m\u001b[34m(self, input, hx)\u001b[39m\n\u001b[32m   1124\u001b[39m         hx = \u001b[38;5;28mself\u001b[39m.permute_hidden(hx, sorted_indices)\n\u001b[32m   1126\u001b[39m \u001b[38;5;28;01mif\u001b[39;00m batch_sizes \u001b[38;5;129;01mis\u001b[39;00m \u001b[38;5;28;01mNone\u001b[39;00m:\n\u001b[32m-> \u001b[39m\u001b[32m1127\u001b[39m     result = \u001b[43m_VF\u001b[49m\u001b[43m.\u001b[49m\u001b[43mlstm\u001b[49m\u001b[43m(\u001b[49m\n\u001b[32m   1128\u001b[39m \u001b[43m        \u001b[49m\u001b[38;5;28;43minput\u001b[39;49m\u001b[43m,\u001b[49m\n\u001b[32m   1129\u001b[39m \u001b[43m        \u001b[49m\u001b[43mhx\u001b[49m\u001b[43m,\u001b[49m\n\u001b[32m   1130\u001b[39m \u001b[43m        \u001b[49m\u001b[38;5;28;43mself\u001b[39;49m\u001b[43m.\u001b[49m\u001b[43m_flat_weights\u001b[49m\u001b[43m,\u001b[49m\u001b[43m  \u001b[49m\u001b[38;5;66;43;03m# type: ignore[arg-type]\u001b[39;49;00m\n\u001b[32m   1131\u001b[39m \u001b[43m        \u001b[49m\u001b[38;5;28;43mself\u001b[39;49m\u001b[43m.\u001b[49m\u001b[43mbias\u001b[49m\u001b[43m,\u001b[49m\n\u001b[32m   1132\u001b[39m \u001b[43m        \u001b[49m\u001b[38;5;28;43mself\u001b[39;49m\u001b[43m.\u001b[49m\u001b[43mnum_layers\u001b[49m\u001b[43m,\u001b[49m\n\u001b[32m   1133\u001b[39m \u001b[43m        \u001b[49m\u001b[38;5;28;43mself\u001b[39;49m\u001b[43m.\u001b[49m\u001b[43mdropout\u001b[49m\u001b[43m,\u001b[49m\n\u001b[32m   1134\u001b[39m \u001b[43m        \u001b[49m\u001b[38;5;28;43mself\u001b[39;49m\u001b[43m.\u001b[49m\u001b[43mtraining\u001b[49m\u001b[43m,\u001b[49m\n\u001b[32m   1135\u001b[39m \u001b[43m        \u001b[49m\u001b[38;5;28;43mself\u001b[39;49m\u001b[43m.\u001b[49m\u001b[43mbidirectional\u001b[49m\u001b[43m,\u001b[49m\n\u001b[32m   1136\u001b[39m \u001b[43m        \u001b[49m\u001b[38;5;28;43mself\u001b[39;49m\u001b[43m.\u001b[49m\u001b[43mbatch_first\u001b[49m\u001b[43m,\u001b[49m\n\u001b[32m   1137\u001b[39m \u001b[43m    \u001b[49m\u001b[43m)\u001b[49m\n\u001b[32m   1138\u001b[39m \u001b[38;5;28;01melse\u001b[39;00m:\n\u001b[32m   1139\u001b[39m     result = _VF.lstm(\n\u001b[32m   1140\u001b[39m         \u001b[38;5;28minput\u001b[39m,\n\u001b[32m   1141\u001b[39m         batch_sizes,\n\u001b[32m   (...)\u001b[39m\u001b[32m   1148\u001b[39m         \u001b[38;5;28mself\u001b[39m.bidirectional,\n\u001b[32m   1149\u001b[39m     )\n",
      "\u001b[31mKeyboardInterrupt\u001b[39m: "
     ]
    }
   ],
   "source": [
    "trainer = Trainer(\n",
    "    generator=g,\n",
    "    discriminator=d,\n",
    "    batch_size=96,\n",
    "    num_epochs=3000,\n",
    "    label='Fusion of ventricular and normal'\n",
    ")\n",
    "trainer.run()"
   ]
  },
  {
   "cell_type": "code",
   "execution_count": 14,
   "metadata": {
    "_kg_hide-input": true,
    "id": "V9ONlQ8-o2tW",
    "outputId": "0cd32f2b-9ffe-4d76-d39e-de3a130d6ed4",
    "trusted": true
   },
   "outputs": [
    {
     "data": {
      "image/png": "[encoded data removed]",
      "text/plain": [
       "<Figure size 864x360 with 1 Axes>"
      ]
     },
     "metadata": {
      "needs_background": "light"
     },
     "output_type": "display_data"
    }
   ],
   "source": [
    "plt.figure(figsize=(12, 5))\n",
    "plt.title(\"GAN Errors in Training\")\n",
    "plt.plot(trainer.d_errors, label='Generator Error', c='#1CD3A2')\n",
    "plt.plot(trainer.g_errors, label='Discriminator Error', c='#FF0033')\n",
    "plt.xlabel(\"Epochs\")\n",
    "plt.ylabel('Error')\n",
    "_ = plt.legend()\n",
    "plt.savefig('Gan_Losses.png', facecolor='w', edgecolor='w', format='png',\n",
    "        transparent=False, bbox_inches='tight', pad_inches=0.1)\n",
    "plt.savefig('Gan_Losses.svg', facecolor='w', edgecolor='w', format='svg',\n",
    "        transparent=False, bbox_inches='tight', pad_inches=0.1)"
   ]
  },
  {
   "cell_type": "code",
   "execution_count": null,
   "metadata": {
    "_kg_hide-input": true,
    "id": "THQDcRKYo2tX",
    "outputId": "552cb67e-b7e9-4390-ce25-289ddc60048b",
    "trusted": true
   },
   "outputs": [
    {
     "data": {
      "image/png": "[encoded data removed]",
      "text/plain": [
       "<Figure size 1080x288 with 2 Axes>"
      ]
     },
     "metadata": {
      "needs_background": "light"
     },
     "output_type": "display_data"
    }
   ],
   "source": [
    "df = pd.read_csv(config.csv_path)\n",
    "df = df.loc[df['label'] == 'Fusion of ventricular and normal']\n",
    "\n",
    "# real signal\n",
    "N = 1\n",
    "real_samples =  df.sample(N).values[:, :-2].transpose()\n",
    "\n",
    "# synthetic signal\n",
    "fake = trainer.netG(trainer.fixed_noise)\n",
    "index = np.random.choice(fake.shape[0], N, replace=False) \n",
    "synthetic_samples = fake.detach().cpu().squeeze(1).numpy()[index].transpose()\n",
    "\n",
    "fig, axs = plt.subplots(1, 2, figsize=(15, 4))\n",
    "\n",
    "\n",
    "axs[0].plot(real_samples, c='#007FFF')\n",
    "axs[0].set_title(\"Real\", fontsize= 12, weight=\"bold\")\n",
    "\n",
    "\n",
    "axs[1].plot(synthetic_samples, c=\"crimson\")\n",
    "axs[1].set_title(\"Synthetic\", fontsize= 12, weight=\"bold\")\n",
    "\n",
    "plt.suptitle('class \"Fusion of ventricular and normal\"', fontsize=18, y=1.05, weight=\"bold\")\n",
    "plt.tight_layout()\n",
    "plt.savefig('Fusion_of_ventricular_and_normal.png', facecolor='w', edgecolor='w', format='png',\n",
    "        transparent=False, bbox_inches='tight', pad_inches=0.1)\n",
    "plt.savefig('Fusion_of_ventricular_and_normal.svg', facecolor='w', edgecolor='w', format='svg',\n",
    "        transparent=False, bbox_inches='tight', pad_inches=0.1)"
   ]
  },
  {
   "cell_type": "markdown",
   "metadata": {},
   "source": [
    "# Conclusion\n",
    "Since this is a standard process for training a GAN model, we can observe that the Generator produces predominantly dominant signal types.\n",
    "More specifically, we have a total of 803 signals of the '\"Fusion of ventricular and normal\"' class, most of which are very similar, and that's what GAN model learned to generate."
   ]
  }
 ],
 "metadata": {
  "kernelspec": {
   "display_name": "torch-env",
   "language": "python",
   "name": "python3"
  },
  "language_info": {
   "codemirror_mode": {
    "name": "ipython",
    "version": 3
   },
   "file_extension": ".py",
   "mimetype": "text/x-python",
   "name": "python",
   "nbconvert_exporter": "python",
   "pygments_lexer": "ipython3",
   "version": "3.12.12"
  }
 },
 "nbformat": 4,
 "nbformat_minor": 4
}
